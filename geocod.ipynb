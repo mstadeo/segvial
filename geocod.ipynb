{
 "cells": [
  {
   "cell_type": "markdown",
   "metadata": {},
   "source": [
    "# Geocodificación de siniestros para la ciudad de Rosario"
   ]
  },
  {
   "cell_type": "markdown",
   "metadata": {},
   "source": [
    "En el presente notebook se realiza el proceso de geocodificación de los siniestros ocurridos en la ciudad de Rosario, Santa Fe, Argentina. \n",
    "\n",
    "El procedimiento se divide en varios pasos que aseguran la limpieza de las calles, las cuales fueron ingresadas manualmente, para garantizar una geocodificación precisa. Finalmente, el proceso concluye con la propia geocodificación, utilizando Nominatim para direcciones puntuales (por ejemplo, Pasco 1550) y OpenStreetMap para intersecciones (por ejemplo, Oroño y Pellegrini)."
   ]
  },
  {
   "cell_type": "code",
   "execution_count": 7,
   "metadata": {},
   "outputs": [],
   "source": [
    "import difflib\n",
    "import matplotlib.pyplot as plt\n",
    "import numpy as np\n",
    "import osmnx as ox\n",
    "import pandas as pd\n",
    "import plotly.express as px\n",
    "import re\n",
    "import time\n",
    "from geopy.geocoders import Nominatim\n",
    "from shapely.geometry import LineString, MultiLineString, MultiPoint, GeometryCollection, Point\n",
    "from unidecode import unidecode\n",
    "import geopandas as gpd"
   ]
  },
  {
   "cell_type": "markdown",
   "metadata": {},
   "source": [
    "## Limpieza de datos"
   ]
  },
  {
   "cell_type": "markdown",
   "metadata": {},
   "source": [
    "Se comienza leyendo el CSV *'data_final'* y filtrando la ciudad de Rosario."
   ]
  },
  {
   "cell_type": "code",
   "execution_count": 8,
   "metadata": {},
   "outputs": [
    {
     "name": "stderr",
     "output_type": "stream",
     "text": [
      "C:\\Users\\Usuario\\AppData\\Local\\Temp\\ipykernel_18316\\3693281426.py:1: DtypeWarning: Columns (19) have mixed types. Specify dtype option on import or set low_memory=False.\n",
      "  data = pd.read_csv(\"data_final.csv\")\n"
     ]
    }
   ],
   "source": [
    "data = pd.read_csv(\"data_final.csv\")\n",
    "data = data[data['desc_loc']=='ROSARIO'].copy()"
   ]
  },
  {
   "cell_type": "markdown",
   "metadata": {},
   "source": [
    "Luego, se crea una nueva columna llamada *'forma_geocod'*, que contendrá la información de geocodificación. Esta puede provenir de los datos ya presentes en el CSV, de la geocodificación realizada con Nominatim para direcciones puntuales, o de la geocodificación de puntos en intersecciones obtenida con OpenStreetMap para siniestros en intersecciones."
   ]
  },
  {
   "cell_type": "code",
   "execution_count": 9,
   "metadata": {},
   "outputs": [
    {
     "name": "stderr",
     "output_type": "stream",
     "text": [
      "C:\\Users\\Usuario\\AppData\\Local\\Temp\\ipykernel_18316\\3445348552.py:4: FutureWarning: Setting an item of incompatible dtype is deprecated and will raise in a future error of pandas. Value '['-32.942611111111,-60.651583333333' '-32.987866, -60.629612'\n",
      " '-32.975833333333,-60.727222222222' ...\n",
      " '-32.965971377348964, -60.6859731090'\n",
      " '-32.978710625552154, -60.6351299015' '    -32.96786, -60.64194']' has dtype incompatible with float64, please explicitly cast to a compatible dtype first.\n",
      "  data.loc[data['posicion_XY'].notnull(), 'forma_geocod'] = data['posicion_XY']\n"
     ]
    }
   ],
   "source": [
    "data['forma_geocod'] = np.nan # columna nueva con todos nulos\n",
    "\n",
    "# si la direccion ya estaba geocodificada --> guardo en forma_geocod la geocodificación existente\n",
    "data.loc[data['posicion_XY'].notnull(), 'forma_geocod'] = data['posicion_XY']"
   ]
  },
  {
   "cell_type": "markdown",
   "metadata": {},
   "source": [
    "Como sólo nos interesan los siniestros ocurridos en la ciudad, filtraremos los datos para ignorar aquellos que hayan ocurrido en rutas o autopistas."
   ]
  },
  {
   "cell_type": "code",
   "execution_count": 10,
   "metadata": {},
   "outputs": [],
   "source": [
    "# separo los accidentes en ruta y los accidentes en ciudad\n",
    "accidentes_ruta = data[data['desc_ruta'].notna() | data['calle_avenida_km'].str.contains('ruta|km|kilometro|autopista|autovia', case=False, na=False)].copy()\n",
    "accidentes_ciudad = data[~data.index.isin(accidentes_ruta.index)].copy()"
   ]
  },
  {
   "cell_type": "markdown",
   "metadata": {},
   "source": [
    "A continuación, se define la función **'separar_en_calles'**. Esta función tiene como objetivo devolver una lista con las calles involucradas en el siniestro. Si la dirección es nula, devolverá una lista vacía. Si se trata de una dirección puntual, devolverá una lista con un único elemento. Si se trata de una intersección, devolverá una lista con dos (o más) elementos.\n",
    "\n",
    "Además, se crean dos nuevas columnas: *'calle_lista'* y *'numero_calles'*. La primera contendrá los resultados de la función, es decir, una lista con la(s) calle(s) involucrada(s) en el siniestro. La segunda contendrá el número de elementos en dicha lista, indicando el número de calles participantes. Esta última columna será útil para filtrar los siniestros al usar Nominatim o OSM."
   ]
  },
  {
   "cell_type": "code",
   "execution_count": 11,
   "metadata": {},
   "outputs": [],
   "source": [
    "def separar_en_calles(dire):\n",
    "    '''Recibe una dirección. Si es vacía, devuelve una lista vacía. Si es puntual, devuelve una lista de \n",
    "    un único elemento. Si es una intersección, devuelve una lista con cada calle participante'''\n",
    "    if pd.isna(dire):\n",
    "        return []\n",
    "    else:\n",
    "        calles = re.split(\" y | entre | e | casi \", dire, flags=re.IGNORECASE)\n",
    "        calles = [x for x in calles if x != '']\n",
    "        return calles\n",
    "    \n",
    "# llamo a la función y también creo una columna 'numero_calles' que calcula cuántos elementos hay en cada lista de 'calle_lista'\n",
    "accidentes_ciudad['calle_lista'] = accidentes_ciudad['calle_avenida_km'].apply(lambda x: separar_en_calles(x))  # calles lista\n",
    "accidentes_ciudad['numero_calles'] = accidentes_ciudad['calle_lista'].apply(lambda x: len(x))  # nro calles "
   ]
  },
  {
   "cell_type": "markdown",
   "metadata": {},
   "source": [
    "La función previamente definida presenta dificultades con las calles que contienen un 'y' en su nombre, como en los casos de 'Guido y Spano' o 'López y Planes', ya que interpreta cada parte del nombre por separado, lo que resulta en elementos adicionales en la lista. Para abordar estos casos, se implementa la función **'aplicar_transformaciones'** para unificar los nombres."
   ]
  },
  {
   "cell_type": "code",
   "execution_count": 12,
   "metadata": {},
   "outputs": [],
   "source": [
    "def aplicar_transformaciones(dataframe, transformaciones):\n",
    "    ''''Recibe un dataframe y una lista de diccionarios. Aplica transformaciones en el dataframe según cada diccionario'''\n",
    "    for index, row in dataframe.iterrows():\n",
    "        calle_lista = row['calle_lista']\n",
    "        for i, transformacion in enumerate(transformaciones):\n",
    "            if any(transformacion['condicion'] in calle.lower() for calle in calle_lista):\n",
    "                calle_lista = [transformacion['nuevo_valor'] if calle.lower() == transformacion['condicion'] else calle for calle in calle_lista]\n",
    "                calle_lista = [calle for calle in calle_lista if calle.lower() != transformacion['eliminar_valor']]\n",
    "                if 'eliminar_valor2' in transformacion:\n",
    "                    calle_lista = [calle for calle in calle_lista if calle.lower() != transformacion['eliminar_valor2']]\n",
    "                dataframe.at[index, 'calle_lista'] = calle_lista\n",
    "\n",
    "transformaciones = [\n",
    "    {'condicion': 'planes', 'eliminar_valor': 'av lopez', 'eliminar_valor2': 'lopez', 'nuevo_valor': 'López y Planes'},\n",
    "    {'condicion': 'spano', 'eliminar_valor': 'guido', 'nuevo_valor': 'Guido y Spano'},\n",
    "    {'condicion': 'acha', 'eliminar_valor': 'pje. suriguez', 'nuevo_valor': 'Suriguez y Acha'},\n",
    "    {'condicion': 'sanabria', 'eliminar_valor': 'pje. trejo', 'nuevo_valor': 'Trejo y Sanabria'}]\n",
    "\n",
    "aplicar_transformaciones(accidentes_ciudad, transformaciones)"
   ]
  },
  {
   "cell_type": "markdown",
   "metadata": {},
   "source": [
    "A diferencia de los casos anteriores, en Rosario existen las calles 'Cullen', 'Ugarte' y 'Cullen y Ugarte', lo que ha generado dificultades al definir las listas en la columna *'calle_lista'*. Es por eso que, a continuación, se abordan estos casos específicos.\n",
    "\n",
    "La calle 'Cullen' y la calle 'Ugarte' no se cortan, por lo tanto no existe intersección entre ellas. Esto es importante aclarar porque hay casos en la base de datos de siniestros donde ambos nombres figuran sin una numeración, entonces se decidió tratar estos casos como la calle 'Cullen y Ugarte', aclarando que su geocodificación no podrá ser posible al tratarse de una dirección incompleta. \n",
    "\n",
    "Luego, algunos casos registrados como 'Cullen y Ugarte 1500' han sido incorrectamente separados debido a la 'y' que une ambos nombres. En estos casos, se unificará toda la dirección en un único elemento, tratándose de una dirección puntual.\n",
    "\n",
    "Finalmente, si la lista de calles contiene tres elementos, indicando una intersección entre 'Cullen y Ugarte' y otra calle, se unificarán 'Cullen y Ugarte' como una sola entidad, representando la intersección entre las dos calles."
   ]
  },
  {
   "cell_type": "code",
   "execution_count": 13,
   "metadata": {},
   "outputs": [],
   "source": [
    "for index, row in accidentes_ciudad.iterrows():\n",
    "    calle_lista = row['calle_lista']\n",
    "\n",
    "    calle_lista_lower = [calle.lower() for calle in calle_lista]\n",
    "    \n",
    "    # caso 1: uno 'Cullen' y 'Ugarte' cuando son los únicos elementos (dirección incompleta)\n",
    "    if len(calle_lista_lower) == 2 and 'cullen' in calle_lista_lower and 'ugarte' in calle_lista_lower:\n",
    "        calle_lista = ['Cullen y Ugarte']\n",
    "    \n",
    "    # caso 2: uno 'Cullen' y 'Ugarte' cuando 'Cullen' está presente y 'Ugarte' tiene un número (dirección puntual)\n",
    "    elif len(calle_lista_lower) == 2 and 'cullen' in calle_lista_lower:\n",
    "        match = re.match(r'ugarte\\s+(\\d+)', calle_lista[1].lower())\n",
    "        if match:\n",
    "            calle_lista = ['Cullen y Ugarte ' + match.group(1)]\n",
    "    \n",
    "    # caso 3: uno 'Cullen' y 'Ugarte' cuando 'Cullen' y 'Ugarte' están presentes  (es una intersección entre Cullen y Ugarte + otra calle)\n",
    "    elif len(calle_lista_lower) == 3 and 'cullen' in calle_lista_lower and any(calle == 'ugarte' or calle == 'ugarte ' for calle in calle_lista_lower):\n",
    "        calle_lista = [calle for calle in calle_lista if calle.lower() != 'cullen' and calle.lower() != 'ugarte' and calle.lower() != 'ugarte ']\n",
    "        calle_lista.insert(0, 'Cullen y Ugarte')\n",
    "    \n",
    "    accidentes_ciudad.at[index, 'calle_lista'] = calle_lista"
   ]
  },
  {
   "cell_type": "markdown",
   "metadata": {},
   "source": [
    "Una vez tratados estos casos particulares (se verán más adelante otros, como 'Battle y Ordóñez'), es importante considerar que al geocodificar intersecciones, OpenStreetMap es mucho más exigente que Nominatim para direcciones puntuales.\n",
    "\n",
    "Mientras que Nominatim puede geocodificar una dirección incluso si no se escribe el nombre de la calle de manera completamente precisa, OpenStreetMap requiere que la calle esté escrita de manera exacta según lo que se encuentra en su base de datos.\n",
    "\n",
    "Por ejemplo, Nominatim puede reconocer la calle 'Peru', pero OpenStreetMap necesita que esté escrita como 'Perú'. Lo mismo sucede con 'Avellaneda': en algunos casos, OSM puede reconocerlo, pero en la mayoría de los casos será necesario escribir 'Avenida Nicolás Avellaneda' para que OpenStreetMap pueda geocodificar la dirección correctamente.\n",
    "\n",
    "Es por esa razón que se define la función **'unificar'**, la cual recibe el nombre de una calle y, mediante el uso de expresiones regulares, lo modifica según lo propuesto en los diccionarios de reemplazos."
   ]
  },
  {
   "cell_type": "code",
   "execution_count": 14,
   "metadata": {},
   "outputs": [],
   "source": [
    "def unificar(calle, reemplazos):    \n",
    "    '''Recibe el nombre de una calle y un diccionario de reemplazos, y acorde a los cambios dentro del diccionario reemplazos, devuelve la calle modificada'''\n",
    "    nueva_calle = calle.lower()\n",
    "    for pattern, replacement in reemplazos.items():\n",
    "        nueva_calle = re.sub(pattern, replacement, nueva_calle, flags=re.IGNORECASE)\n",
    "    nueva_calle = re.sub(r'\\.', ' ', nueva_calle)\n",
    "    nuevas_palabras = [palabra.capitalize() for palabra in nueva_calle.split() if palabra]\n",
    "    nuevas_palabras = ' '.join(nuevas_palabras)\n",
    "\n",
    "    return nuevas_palabras"
   ]
  },
  {
   "cell_type": "markdown",
   "metadata": {},
   "source": [
    "Para llevar a cabo estos reemplazos, se definen dos diccionarios. El primero de ellos, llamado *'reemplazos_puntuales'*, se utilizará para los siniestros que contienen un solo elemento en la lista de la columna *'calle_lista'*, es decir, direcciones puntuales. Aunque se ha mencionado que Nominatim es generalmente más robusto en la geocodificación, hay casos en los que es necesario considerar errores de ortografía, abreviaciones o errores tipográficos.\n",
    "\n",
    "Por otro lado, el segundo diccionario, *'reemplazos_inter'*, será utilizado para reemplazar las calles de los siniestros que ocurren en intersecciones (con dos o más elementos en *'calle_lista'*). Como se observa, este diccionario es más extenso, ya que los siniestros en intersecciones son mucho más comunes que los ocurridos en direcciones puntuales. Además, como se mencionó anteriormente, OpenStreetMap es más exigente en la geocodificación de intersecciones, por lo tanto se necesita un diccionario más amplio y detallado."
   ]
  },
  {
   "cell_type": "code",
   "execution_count": 15,
   "metadata": {},
   "outputs": [],
   "source": [
    "reemplazos_puntuales = {\n",
    "        r'\\b(?:av(\\.|enida)?|avda(\\.)?|cortada|bv(\\.)?)\\b': '',\n",
    "        r'\\bal\\b': '',\n",
    "        r'\\bpte(\\.|)?\\b': 'Presidente',\n",
    "        r'\\bpje(\\.)?\\b': 'Pasaje',\n",
    "        r'\\bgral(\\.|)?\\b': 'General',\n",
    "        r'\\btte(\\.|)?\\b': 'Teniente',\n",
    "        r'\\b(?:pte(\\.|)?\\s*peron|godoy(?!\\scruz\\b))\\b': 'Avenida Presidente Perón',\n",
    "        r'\\boro(\\.|)?o|oro?o|boroño|oroño|oro o|oro\\?o|oro�o\\b': 'Nicasio Oroño',\n",
    "        r'\\bbs as|bs(\\.|)?\\s*as(\\.|)?|bs\\. as\\.\\b': 'Buenos Aires',\n",
    "        r'\\b(?:rou(ll)?(?:in|on|ion)?|romillon|roullon)\\b': 'Alfredo Rouillón',\n",
    "        r'\\bpcias(\\.|)?\\b': 'Provincias',             \n",
    "        r'\\b(?:segu(i)?|busegui|bv\\.?segui)\\b': 'Bulevar Juan Francisco Seguí',\n",
    "        r'\\bov(\\.|)?\\b': 'Ovidio',                     \n",
    "        r'\\bJ(\\.|)?\\s*C(\\.|)?\\s*Casas\\b': 'Juan Carlos Casas',\n",
    "        r'\\bctes(\\.)?\\b': 'Corrientes',\n",
    "        r'\\b(?:estados unidos|eeuu|ee(\\.|)? uu(\\.|)?|e(\\.|)? e(\\.|)? u(\\.|)? u(\\.|)?|ee\\. uu)\\b': 'Avenida 25 de Mayo',\n",
    "        r'\\b(?:lesgarza|lesganje)\\b': 'Joaquín lejarza',\n",
    "        r'\\bM(\\.)?\\s*DE ESTRADA\\b': 'Martinez de Estrada',\n",
    "        r'\\bb(\\.)?\\s*ordoñez\\b': 'Avenida Battle y Ordoñez',\n",
    "        r'\\bP.L.Funes\\b': 'Pedro Lino Funes',\n",
    "        r'\\b1&#186; de mayo|1 de mayo|1ero de mayo\\b': 'Primero de Mayo',\n",
    "        r'J(\\.|)? M(\\.|)? De Rosas|J(\\.|)? M(\\.|)? Rosas\\b\\b': 'Juan Manuel de Rosas',\n",
    "        r'\\bReg(\\.|)?\\s*11 De Infanteria|reg(\\.|)?\\s*11\\b': 'Regimiento 11',\n",
    "        r'\\bJj(\\.|)?\\s*Paso|J(\\.|)?\\s*J(\\.|)?\\s*Pasos|J(\\.|)?\\s*J(\\.|)?\\s*Paso|JUAN J(\\.|)?\\s*PASOS\\b': 'Juan José Paso',\n",
    "        r'\\bwheelwright|weelwrigth\\b': 'Avenida Guillermo Wheelwright',\n",
    "        r'\\bJ(\\.|)?\\s*NEWERY|J(\\.|)?\\s*newbery\\b': 'Jorge Newbery',\n",
    "        r'\\birigoyen|yrigoyen|hirigoyen|Hipolito Irygoyen\\b': 'Avenida Hipólito Irigoyen',\n",
    "        r'\\bdr(\\.|)?\\s*rivas|dr(\\.|)?\\s*riva\\b': 'Doctor Francisco Riva',\n",
    "        r'\\bcoria\\b': 'Loria'\n",
    "    }"
   ]
  },
  {
   "cell_type": "code",
   "execution_count": 16,
   "metadata": {},
   "outputs": [],
   "source": [
    "reemplazos_inter = {\n",
    "        r'\\b(?:av(\\.|enida)?|avda(\\.)?|pasaje|cortada|cda(\\.|)?|calle|pje(\\.|)?|bv(\\.)?|boulevard|gral(\\.|)?|bis|pte(\\.|)?)\\b': '',\n",
    "        r'\\b(?:godo(?:y)?|(\\w\\.+\\s*)+peron)|juan peron|J D peron|j d peron|peron|PTE PERON\\b': 'Avenida Presidente Perón',\n",
    "        r'\\bav. godoy|AV GODO|AV GODOY|av. godo|godo|godoy|av. godot\\b': 'Avenida Presidente Perón',\n",
    "        r'\\boro(\\.|)?o|oro?o bis|boroño|oroño|oro o|oro\\?o|oro�o\\b': 'Nicasio Oroño',\n",
    "        r'\\bbs as|bs as|bs\\. as\\.|bs as\\b': 'Buenos Aires',\n",
    "        r'\\b(?:rou(ll)?(?:in|on|ion)?|romillon|rouillon|ramillon|rovillon)\\b': 'Alfredo Rouillón',\n",
    "        r'\\bpcias(\\.|)?\\b': 'Provincias',             \n",
    "        r'\\b(?:segu(i)?|busegui|bv\\.?segui)\\b': 'Bulevar Juan Francisco Seguí',\n",
    "        r'\\bov(\\.|)?\\b': 'Ovidio',                     \n",
    "        r'\\b1724\\b': 'Hermana Paula Márquez',                  \n",
    "        r'\\b1715\\b': 'Plácido Grela',\n",
    "        r'\\b1481\\b': 'Seren',\n",
    "        r'\\b1707\\b': 'Martín Fierro', \n",
    "        r'\\b1750\\b': 'Ana María Zeno', \n",
    "        r'\\b1344\\b': 'Coliqueo', \n",
    "        r'\\b1829\\b': 'Pierina Pasotti', \n",
    "        r'\\b1809\\b': 'Gaucho Rivero',\n",
    "        r'\\b1112\\b': 'Juan José Saer',\n",
    "        r'\\b2105\\b':'La Cumparsita', \n",
    "        r'\\b1635\\b': 'Suinda', \n",
    "        r'\\b13101\\b': 'Rubén Naranjo',\n",
    "        r'\\b1717\\b': 'Eduardo Isern', \n",
    "        r'\\b1211\\b': 'Néstor Ferraza', \n",
    "        r'\\b1348\\b': 'Liliana Maresca', \n",
    "        r'\\b1819\\b': 'Aborígenes Argentinos', \n",
    "        r'\\b1737\\b': 'Lia Bauman', \n",
    "        r'\\b1711\\b':'Carlos Uriarte',\n",
    "        r'\\b1701\\b':'Arturo Jauretche', \n",
    "        r'\\b808\\b': 'Lidice', \n",
    "        r'\\b1333\\b':'Domingo Candia', \n",
    "        r'\\b1001\\b':'Simon Wiesenthal', \n",
    "        r'\\b2103\\b': 'Caminito', \n",
    "        r'\\b1422\\b':'Saladillo', \n",
    "        r'\\b1844\\b':'Héctor Miguel Rolla', \n",
    "        r'\\b1845\\b': 'Alfredo Jorge Vázquez',\n",
    "        r'\\b1807\\b':'Juan XXIII', \n",
    "        r'\\b1754\\b': 'Olga Cossettini', \n",
    "        r'\\b1406\\b': 'Pilcomayo', \n",
    "        r'\\b1345\\b': 'Graciela Lo Tufo', \n",
    "        r'\\b1815\\b': 'Avenida Mario Cisneros',\n",
    "        r'\\b1115\\b': 'Gaboto',\n",
    "        r'\\bctes(\\.)?\\b': 'Corrientes',\n",
    "        r'\\bprimo\\b': 'Primero',\n",
    "        r'\\barijon\\b': 'Avenida Manuel Arijón',\n",
    "        r'\\bgrandol(i|u)?\\b': 'Avenida Abanderado Grandoli',\n",
    "        r'\\b(?:estados unidos|eeuu|ee(\\.|)? uu(\\.|)?|e(\\.|)? e(\\.|)? u(\\.|)? u(\\.|)?|ee\\. uu)\\b': 'Avenida 25 de Mayo',\n",
    "        r'\\b(?:Sabine|travesia|Sabino|Sabin|sobia)\\b': 'Avenida Travesía Albert Sabin',\n",
    "        r'\\b(?:San\\sDiego|diego)\\b': 'Bulevar San Diego',\n",
    "        r'\\b(?:C\\.?\\sCasas|Avenida\\sCasas)\\b': 'Avenida Casiano Casas',\n",
    "        r'\\b(?:lesgarza|lesganje)\\b': 'Joaquín lejarza',\n",
    "        r'\\bnelson\\b':'Pasaje Don Orione',\n",
    "        r'\\bcarballo|tres vias|camballo|3 vias\\b':'Avenida Doctor Luis Cándido Carballo',\n",
    "        r'\\b(?:Estarda|M\\sEstrada|J\\sM\\sEstrada)\\b': 'Estrada', \n",
    "        r'\\bwilde\\b': 'Bulevar Wilde', \n",
    "        r'\\b(?:cortada\\sricardone|pasaje\\sricardone)\\b': 'Ricardone',\n",
    "        r'\\bprevision\\b':'5 de Agosto',\n",
    "        r'\\bolmos|avenida de los olmos|olmos bis\\b' : 'Los Olmos',\n",
    "        r'\\bB. ORDOÑEZ\\b': 'Avenida Battle y Ordoñez',\n",
    "        r'\\b(?:ord[oó]ñez|ordonez|ordo�ez|ordo[nñ]ez|ordo\\?ez)\\b': '',\n",
    "        r'\\bbatle|battle|batlle|bv\\.? ordonez|bv. ordoñez|av\\. battle|av\\. batlle|bv(\\.)?\\s*ordoñez\\b': 'Avenida Battle y Ordoñez',\n",
    "        r'\\bfrancia|francia 100 Bis\\b': 'Avenida Francia',\n",
    "        r'\\bdean funes|d. funes|d funes\\b':'Deán Gregorio Funes',\n",
    "        r'\\bhogar|Hogar\\b':'',     \n",
    "        r'\\bInterseccion Junin|Junin Al 100|Junin 1600|Junin 500\\b' : 'Junín',\n",
    "        r'\\b1&#186; de mayo|1 de mayo|1ero de mayo\\b': 'Primero de Mayo',\n",
    "        r'J(\\.|)? M(\\.|)? De Rosas|J(\\.|)? M(\\.|)? Rosas\\b\\b': 'Juan Manuel de Rosas',\n",
    "        r'\\bReg(\\.|)?\\s*11 De Infanteria|reg(\\.|)?\\s*11\\b': 'Regimiento 11',\n",
    "        r'\\bJ(\\.|)? Cura|Jorge Cura\\b': 'Avenida Jorge Cura',\n",
    "        r'\\bJj(\\.|)?\\s*Paso|J(\\.|)?\\s*J(\\.|)?\\s*Pasos|J(\\.|)?\\s*J(\\.|)?\\s*Paso 700bis\\b': 'Juan José Paso',\n",
    "        r'\\bForest|Foret 7500|Frest 1200\\b':  'Carlos Forest',\n",
    "        r'\\bmr(\\.|)? ross|m(\\.|)? ross|ross\\b': 'Rodrigo M. Ross',\n",
    "        r'\\bwheelwright|weelwrigth\\b': 'Avenida Guillermo Wheelwright',\n",
    "        r'\\birigoyen|yrigoyen|hirigoyen|Hipolito Irygoyen\\b': 'Avenida Hipólito Irigoyen',\n",
    "        r'\\bacceso sur|acceso\\b': 'Belgrano',\n",
    "        r'\\bviedma|biedma\\b': 'Coronel Biedma',\n",
    "        r'\\bdr(\\.|)?\\s*rivas|dr(\\.|)?\\s*riva\\b': 'Doctor Francisco Riva',\n",
    "        r'\\b[a-zA-Z]\\b': ''\n",
    "    }"
   ]
  },
  {
   "cell_type": "code",
   "execution_count": 17,
   "metadata": {},
   "outputs": [],
   "source": [
    "# uso de la función 'reemplazos' para cada elemento de las listas de la columna 'calle_lista' si es una dirreción puntual\n",
    "accidentes_ciudad.loc[accidentes_ciudad['numero_calles'] == 1, 'calle_lista'] = accidentes_ciudad[accidentes_ciudad['numero_calles'] == 1]['calle_lista'].apply(lambda lista: [unificar(calle, reemplazos_puntuales) for calle in lista])\n",
    "\n",
    "# uso de la función 'reemplazos' para cada elemento de las listas de la columna 'calle_lista' si es una intersección\n",
    "accidentes_ciudad.loc[accidentes_ciudad['numero_calles'] >= 2, 'calle_lista'] = accidentes_ciudad[accidentes_ciudad['numero_calles'] >= 2]['calle_lista'].apply(lambda lista: [unificar(calle, reemplazos_inter) for calle in lista])"
   ]
  },
  {
   "cell_type": "markdown",
   "metadata": {},
   "source": [
    "Como se mencionó anteriormente, hay dos casos adicionales donde la función para separar las calles ha generado problemas: 'Battle y Ordóñez' y 'Previsión y Hogar' (actualmente '5 de Agosto'). Estos casos no se han abordado anteriormente debido a que los nombres fueron cambiados con el diccionario de reemplazos.\n",
    "\n",
    "En el siguiente bloque de código, se itera sobre cada fila del DataFrame y, si alguno de los elementos de la lista en *'calle_lista'* coincide con los nombres de alguna de las calles ('Battle y Ordóñez' o '5 de Agosto'), se eliminan los elementos nulos o vacíos de la lista, si los hay. Además, si otro elemento de la lista comienza con un número o con 'A' o 'Al', lo que indica una dirección puntual, se unen todos los elementos de la lista en un único elemento, resultando en una dirección puntual. Por ejemplo, 'Battle y Ordóñez 1500'."
   ]
  },
  {
   "cell_type": "code",
   "execution_count": 18,
   "metadata": {},
   "outputs": [],
   "source": [
    "patron = re.compile(r'\\b\\d+\\b') # patrón para números\n",
    "\n",
    "for index, row in accidentes_ciudad.iterrows():\n",
    "    if isinstance(row['calle_lista'], list):\n",
    "\n",
    "        row['calle_lista'] = [calle.replace('Avenida Battle Ordoñez', 'Avenida Battle y Ordoñez') if isinstance(calle, str) else calle for calle in row['calle_lista']]\n",
    "        if 'Avenida Battle y Ordoñez' in row['calle_lista'] or '5 De Agosto' in row['calle_lista']: # verifico si 'Avenida Battle y Ordoñez' o '5 de Agosto' están en la lista\n",
    "            row['calle_lista'] = [calle for calle in row['calle_lista'] if pd.notnull(calle)] # filtro elementos nulos de 'calle_lista'\n",
    "            \n",
    "            for i, calle in enumerate(row['calle_lista']):\n",
    "                if calle == '' and i > 0:\n",
    "                    del row['calle_lista'][i] # elimino elementos vacíos\n",
    "            \n",
    "            # uno todos los elementos en un único string si cumplen las condiciones (otro elemento es un número o comienza con 'A' o 'Al')\n",
    "            for i, calle in enumerate(row['calle_lista']):\n",
    "                if isinstance(calle, str) and calle not in ['Avenida Battle y Ordoñez', '5 De Agosto']:\n",
    "                    if patron.fullmatch(calle) or calle.startswith('A ') or calle.startswith('Al '):\n",
    "                        row['calle_lista'] = [' '.join(row['calle_lista'])]\n",
    "                        break\n",
    "\n",
    "        row['calle_lista'] = [calle for calle in row['calle_lista'] if pd.notnull(calle)]\n",
    "        accidentes_ciudad.at[index, 'calle_lista'] = row['calle_lista'] # actualizo el df\n",
    "\n",
    "# calculo nuevamente el número de elementos de cada lista, actualizando 'numero_calles'\n",
    "accidentes_ciudad['numero_calles'] = accidentes_ciudad['calle_lista'].apply(lambda x: len(x) if (isinstance(x, list) and len(x) > 0 and x[0].strip() != '') else 0) "
   ]
  },
  {
   "cell_type": "markdown",
   "metadata": {},
   "source": [
    "Para poder geocodificar las intersecciones, es necesario cargar los datos de la red de Rosario con el siguiente código. Este código utiliza el archivo gpkg *'municipios_santa_fe.gpkg'*, el cual contiene información geográfica sobre todos los municipios y comunas de la provincia de Santa Fe.\n",
    "\n",
    "En caso de que se desee obtener la red de otro municipio, simplemente se debe agregar a la lista *'municipios'*, que por el momento contiene un único elemento: 'Rosario'."
   ]
  },
  {
   "cell_type": "code",
   "execution_count": 19,
   "metadata": {},
   "outputs": [
    {
     "name": "stderr",
     "output_type": "stream",
     "text": [
      "C:\\Users\\Usuario\\AppData\\Local\\Temp\\ipykernel_18316\\922448198.py:16: FutureWarning: The `north`, `south`, `east`, and `west` parameters are deprecated and will be removed in the v2.0.0 release. Use the `bbox` parameter instead.\n",
      "  G = ox.graph_from_bbox(north, south, east, west, network_type='all_private', simplify=False, retain_all=True)\n"
     ]
    }
   ],
   "source": [
    "municipios_argentina = gpd.read_file('municipios_santa_fe.gpkg')\n",
    "\n",
    "municipios = ['Rosario'] # si se desea geocodificar otro municipio, agregarlo a la lista.\n",
    "\n",
    "datos_municipios = {} # diccionario para almacenar los datos de cada municipio\n",
    "\n",
    "for municipio in municipios:\n",
    "\n",
    "    municipio_data = municipios_argentina[municipios_argentina['nam'] == municipio].copy() \n",
    "    \n",
    "    # obtengo los límites del municipio\n",
    "    bounds = municipio_data.geometry.bounds\n",
    "    north, south, east, west = bounds['miny'].values[0], bounds['maxy'].values[0], bounds['maxx'].values[0], bounds['minx'].values[0]\n",
    "    \n",
    "    # descargo datos de la red de OpenStreetMap para el municipio\n",
    "    G = ox.graph_from_bbox(north, south, east, west, network_type='all_private', simplify=False, retain_all=True)\n",
    "    G = ox.project_graph(G)\n",
    "    \n",
    "    # convierto los datos de la red a GeoDataFrames\n",
    "    nodes, edges = ox.utils_graph.graph_to_gdfs(G)\n",
    "    \n",
    "    # reproyecto los GeoDataFrames a EPSG 4326\n",
    "    crs = 'EPSG:4326'\n",
    "    nodes = nodes.to_crs(crs)\n",
    "    edges = edges.to_crs(crs)\n",
    "    \n",
    "    # relleno los nombres de las calles faltantes con una cadena vacía\n",
    "    edges['name'].fillna('', inplace=True)\n",
    "    \n",
    "    # guardo los GeoDataFrames en el diccionario de datos de municipios\n",
    "    datos_municipios[municipio] = {'nodes': nodes, 'edges': edges}"
   ]
  },
  {
   "cell_type": "markdown",
   "metadata": {},
   "source": [
    "A continuación, definiremos la variable *'calles_osm_rosario'*, que contendrá una lista con todos los nombres de las calles de Rosario, según lo especificado en el archivo de municipios. Esta lista será de utilidad para la geocodificación de las intersecciones."
   ]
  },
  {
   "cell_type": "code",
   "execution_count": 20,
   "metadata": {},
   "outputs": [],
   "source": [
    "calles_osm_rosario = datos_municipios['Rosario']['edges']['name'].unique()  # lista con las calles de Rosario"
   ]
  },
  {
   "cell_type": "markdown",
   "metadata": {},
   "source": [
    "Como se mencionó la importancia de tener los nombres exactos de las calles (al menos para las intersecciones), se define la función **'encontrar_similares'**. Esta función busca coincidencias entre el nombre de la calle ingresado y los nombres que figuran en la lista *'calles_osm_rosario'*, devolviendo aquellos con una probabilidad de similitud mayor o igual al 70%. \n",
    "\n",
    "Esta técnica será útil para aquellos casos de calles que estén mal escritas, ya sea por errores de tipeo u ortografía. Por ejemplo, 'Oronio' encontrará una coincidencia con 'Oroño'."
   ]
  },
  {
   "cell_type": "code",
   "execution_count": 21,
   "metadata": {},
   "outputs": [],
   "source": [
    "def encontrar_similares(calle, calles_osm):\n",
    "    '''Recibe el nombre de una calle y devuelve aquella con mayor similitud dentro de la base de datos de OSM,\n",
    "    con una probabilidad mayor o igual al 70%'''\n",
    "    similares = {}\n",
    "    no_match_list = []  # acá guardo los nombres sin match\n",
    "    \n",
    "    if calle.isdigit():\n",
    "        # si el nombre de la calle es un número, crea posibles variantes con 'Pasaje' y 'Calle'\n",
    "        posibles_variantes = [f'Pasaje {calle}', f'Calle {calle}']\n",
    "        best_match = None\n",
    "        best_ratio = 0\n",
    "        \n",
    "        for variante in posibles_variantes:\n",
    "            closest_match = difflib.get_close_matches(variante, calles_osm, cutoff=0.7, n=1)\n",
    "            if closest_match:\n",
    "                match = closest_match[0]\n",
    "                ratio = difflib.SequenceMatcher(None, variante, match).ratio() # calculo el ratio de similitud\n",
    "                if ratio > best_ratio:  # me quedo con el mejor ratio encontrado\n",
    "                    best_match = match\n",
    "                    best_ratio = ratio\n",
    "        \n",
    "        if best_match:\n",
    "            similares[calle] = best_match\n",
    "        else:\n",
    "            similares[calle] = calle  # si no hay match, conservo la calle original\n",
    "            no_match_list.append(calle)  # agrego también a la lista de no matches\n",
    "    else:\n",
    "        closest_match = difflib.get_close_matches(calle, calles_osm, cutoff=0.7, n=1)\n",
    "        if closest_match:\n",
    "            match = closest_match[0]  \n",
    "            similares[calle] = match \n",
    "        else:\n",
    "            similares[calle] = calle \n",
    "            no_match_list.append(calle)\n",
    "    \n",
    "    return similares, no_match_list"
   ]
  },
  {
   "cell_type": "markdown",
   "metadata": {},
   "source": [
    "Como interesa tratar con esta función los casos de las intersecciones, se filtran aquellas filas con un número de calles mayor o igual a 2."
   ]
  },
  {
   "cell_type": "code",
   "execution_count": 22,
   "metadata": {},
   "outputs": [],
   "source": [
    "# filtro las calles que son intersecciones, porque sino me borra los números de las direcciones puntuales\n",
    "calle_listas_filtradas = accidentes_ciudad[accidentes_ciudad['numero_calles'] >= 2]['calle_lista']\n",
    "\n",
    "# llamo la función a cada elemento de 'accidentes_ciudad['calle_lista']'\n",
    "results = [encontrar_similares(calle, calles_osm_rosario) for lista in calle_listas_filtradas for calle in lista]\n",
    "\n",
    "similares = {calle: match for similares, _ in results for calle, match in similares.items()}\n",
    "no_match_list = [calle for _, no_match_list in results for calle in no_match_list]\n",
    "\n",
    "print(\"Similares:\")\n",
    "for calle_erronea, closest_match in similares.items():\n",
    "    if closest_match is not None:\n",
    "        print(f\"Closest match for '{calle_erronea}': '{closest_match}'\")\n",
    "    else:\n",
    "        print(f\"No match found for '{calle_erronea}'\")\n",
    "\n",
    "print(\"\\nCalles sin match:\")\n",
    "for street_name in no_match_list:\n",
    "    print(street_name)"
   ]
  },
  {
   "cell_type": "markdown",
   "metadata": {},
   "source": [
    "Al observar detalladamente los resultados, hay calles para las cuales el algoritmo de matching asignó un valor incorrecto. Por tanto, es necesario corregirlos manualmente.\n",
    "\n",
    "Es importante destacar que algunas calles no pueden ser geocodificadas debido a que no existen en la base de datos de OSM o no son válidas para la geocodificación, como por ejemplo 'vías del ferrocarril' o 'club nob'. Si el algoritmo de matching les asignó una coincidencia, se añadirán a la lista *'eliminar'*. Esto permitirá eliminarlas del diccionario *'similares'*, evitando asignarles un nombre incorrecto."
   ]
  },
  {
   "cell_type": "code",
   "execution_count": null,
   "metadata": {},
   "outputs": [],
   "source": [
    "eliminar = ['El Trebol', 'Las Palmeras', 'Larguia', 'San Martín', 'Serrano', '1740', 'Del Valle', 'Cabal', 'Charnes', 'Caccia', 'Bogado', 'San Martin', 'Maradona',\n",
    "            'Mendez', 'Donado', 'Vila', 'Ancon', 'Mozart', 'Silva', 'Gutierrez', 'Clarke', '1816', '27 De Abril', 'Roca', 'Ercilia', 'Savin', 'Primero', 'Dorado',\n",
    "            'Fragata', '1373', 'Argentina', '1822', 'Escalada', 'De Rosas', 'De Pineda', 'Pagano', 'Platini', '170', 'Vanzo', 'Colibri', 'Sauna', 'Aborigenes',\n",
    "            'Humberto', 'Maistegni', 'Las Vias', '100', 'Miranda', '1404', 'Micheli', 'Zola', 'Rosas', 'De La Boca', 'Virasoro', 'Paso', 'Travesía', 'Colon', \n",
    "            'Arteaga', 'Salles', 'De La Libertad', 'Janssen', 'Lugones', 'Coaluez', 'Casella', 'Intendente Marcellino', 'Garcia', '1380', '1447', 'Arias', 'Goyena', \n",
    "            'Dominguez', 'Cuanaste', 'Israel', 'Illia', 'Giaconne', '1399', 'Casas', 'Carcano', 'Morrison', 'Vigil', 'Mazzaglia', 'Argentino', 'De La Cosa', 'Coria', \n",
    "            'Traful', 'Intendente Macilla', 'Boero', 'Solis', '1734', 'Daract', 'Libano', 'Central', 'Galvez', 'Las Vías', 'Muller', 'Pineda', 'Suarez', 'Blanco', \n",
    "            '1114', 'Malvinas', 'Margis', 'Vertiz', 'Morales', 'Newbery', 'Aquino']"
   ]
  },
  {
   "cell_type": "markdown",
   "metadata": {},
   "source": [
    "Por otro lado, hay calles para las cuales el algoritmo de matching cometió errores al asignarles un valor incorrecto. Por ejemplo, 'F More' no debería haber sido asignado a otra calle que no sea 'Felipe Moré'. Además, existen muchos casos en los cuales el nombre de una calle ha cambiado desde el año 2012. \n",
    "\n",
    "Estos casos, y muchos más, serán tratados específicamente en el diccionario *'cambios_rosario'*."
   ]
  },
  {
   "cell_type": "code",
   "execution_count": null,
   "metadata": {},
   "outputs": [],
   "source": [
    "cambios_rosario =  {'Schwesttror': 'Albert Schweitzer', \n",
    "                    'Uruburu': 'Avenida José Uriburu',\n",
    "                    'Urquiza Al 7400': 'Urquiza',\n",
    "                    ', Roca': 'Roca',\n",
    "\t\t            'Juan Del Valle' : 'De La Salle',\n",
    "                    'Sta Rosa': 'José María Rosa',\n",
    "                    '27': '27 de Febrero',\n",
    "                    'Juto': 'Juan B. Justo',\n",
    "                    'Blanca': 'Bahía Blanca',\n",
    "                    'Linces Furles': 'Pedro Lino Funes',\n",
    "                    'El Salvador': 'República del Salvador',\n",
    "                    '25 De Diciembre': 'Juan Manuel de Rosas', # cambió de nombre\n",
    "                    'Virgilio': 'José Margis', # cambió de nombre\n",
    "                    'Jb Justo': 'Juan B. Justo',\n",
    "                    '1380': 'Calle 1880',\n",
    "                    'Ing Thedy': 'Thedy',\n",
    "                    'Ruiz Dr Fernando': 'Ruiz',\n",
    "                    'Juez Zuviria': 'Zuviria',\n",
    "                    'Valvo': 'Lovalvo',\n",
    "                    'Jaske': 'Jaques',\n",
    "                    'Bernhein': 'Bernheim',\n",
    "                    'Juan Xxiii': 'Juan Pablo XXIII',\n",
    "                    'Pedro Lino': 'Pedro Lino Funes',\n",
    "                    'Espa?': 'España',\n",
    "                    'Dr Pe?': 'David Peña',\n",
    "                    'Rotonda Venesia': 'Venesia',\n",
    "                    'Schmild': 'Schmidl Ulrico',\n",
    "                    '1349': 'Alma Maritano',\n",
    "                    'Onesimo Leguizamon': 'Leguizamón',\n",
    "                    'Aldrey': 'Buchanan',  # cambió de nombre\n",
    "                    '1426': 'Aduana',\n",
    "                    'Casacuberta': 'Casa Cuberta',\n",
    "                    'Lola Membrives': 'Membribes',\n",
    "                    'Cinco De Agosto': '5 de Agosto',\n",
    "                    'Domingo Silva': 'Silva',\n",
    "                    'Coronel Arnold': 'Arnold',\n",
    "                    'Passo': 'Juan José Paso',\n",
    "                    'Araoz De La Madrid': 'Aráoz',\n",
    "                    'Rondeu': 'Rondeau',\n",
    "                    'Bayo': 'Servando Bayo',\n",
    "                    'Cerrito (2100)': 'Cerrito',\n",
    "                    'Berruti': 'Luis Beruti',\n",
    "                    'Berutti': 'Luis Beruti',\n",
    "                    'Ee Uu': 'Avenida 25 De Mayo',\n",
    "                    'Mazza': 'Juan Agustín Maza',\n",
    "                    'Ovidio Andrades': 'Andrade',\n",
    "                    'Gazcon':'Gascón',\n",
    "                    'Barro': 'Barra',\n",
    "                    'Dovado': 'José Agustín Donado', \n",
    "                    'Colectora Avenida 25 De Mayo': 'Avenida 25 de Mayo',\n",
    "                    'Colectora 25 De Mayo':'Avenida 25 de Mayo',\n",
    "                    'Colombles': 'José Colombres', \n",
    "                    'Colombes': 'Avenida Doctor Carlos Colombres', \n",
    "                    'Romero Pinedo': 'Avenida Romero de Pineda',\n",
    "                    'Pizurno': 'Pablo Pizzurno', \n",
    "                    'Celedonio Escalada': 'Tunel Escalada', \n",
    "                    'Presidente Filiol': 'Fillol', \n",
    "                    'Pasaje Rosas': 'Pascual Rosas', \n",
    "                    'Eva Avenida Presidente Perón': 'Avenida Eva Perón', \n",
    "                    'Acceso Sur': 'General Manuel Belgrano', \n",
    "                    'Carduba': 'Eva Perón', \n",
    "                    'Bianco Fioni': 'Doctor Rafael Biancofiori', \n",
    "                    'De Lucas': 'Esteban de Luca', \n",
    "                    'Noris': 'Juan Díaz de Solís', \n",
    "                    'Luis Vila': 'Doctor Vila', \n",
    "                    'Paulon': 'Pavlov', \n",
    "                    'Granadero Baigorria': 'Baigorria', \n",
    "                    'Carrilego': 'Carriego', \n",
    "                    'Pladon': 'Platón', \n",
    "                    'Pasaje Hutchincon': 'Hutchinson', \n",
    "                    'Unidas': 'Avenida Provincias Unidas', \n",
    "                    'Milton': 'Dellarole', \n",
    "                    'Pedro Tuella': 'Tuella', \n",
    "                    'Melian': 'José Melian', \n",
    "                    'Avalez': 'Benito Álvarez', \n",
    "                    'Bering': 'Pasaje Behring', \n",
    "                    'Paico': 'Pasco', \n",
    "                    'Provincias': 'Avenida Provincias Unidas',\n",
    "                    'Avenida Corrientes': 'Corrientes', \n",
    "                    'Jaureche': 'Arturo Jauretche', \n",
    "\t                'More': 'Felipe Moré',\n",
    "                    'Cerecito': 'Cereseto', \n",
    "                    'Uno': 'Calle 1', \n",
    "                    'Befer': 'Becquer', \n",
    "                    'Guillermo Tell': 'Calle 529', \n",
    "                    'Conscripto Carrasco': 'Carrasco',\n",
    "                    'Torres': 'Torre Revello', \n",
    "                    'Colectora 25 De Mayo': 'Avenida 25 de Mayo',\n",
    "                    'Curie': 'Pasaje Madame Curie',\n",
    "                    'Legarza': 'Pje. Lejarza', \n",
    "                    'Juan Pablo Segundo': 'Juan Pablo II', \n",
    "                    'Nicolas Laguna': 'Laguna', \n",
    "                    'Avenida Brassey': 'Brassey', \n",
    "                    'Lagos': 'Ovidio Lagos', \n",
    "                    'Ovidiolagos': 'Ovidio Lagos',\n",
    "                    'Cachi Bis': 'Cachi', \n",
    "                    'Pedro Tuella': 'Tuella', \n",
    "                    'Colectora 27 De Febrero': '27 De Febrero', \n",
    "                    'Adrian': 'Pasaje 1351', \n",
    "                    '8 De Noviembre': 'Ocho de Noviembre', \n",
    "                    'Humberti 1°': 'Humberto Primero', \n",
    "                    'Humberto I': 'Humberto Primero',\n",
    "                    'Franchini': 'Pasaje Franchini',  \n",
    "                    'Avenida De Los Inmigrantes': 'Inmigrantes', \n",
    "                    'Avenida C Casado': 'Carlos Casado', \n",
    "                    'Republica De Argelia': 'Argelia', \n",
    "                    'Linneo': 'Pasaje Linneo', \n",
    "                    'Zola': 'Emilio Zola', \n",
    "                    'Camino Ruiz': 'Doctor Fernando Ruiz', \n",
    "                    'Cristal': 'Pasaje 2136', \n",
    "                    'Bogado': 'Coronel Félix Bogado', \n",
    "                    'Cesar': 'Avenida Gobernador Caesar', \n",
    "                    'Cavassa': 'Avenida Cabassa', \n",
    "                    'Nicolas Julian': 'Julián Nicolás', \n",
    "                    'Firri': 'Doctor Rafael Biancofiori', \n",
    "                    'Dr Cue': 'Victor Cue', \n",
    "                    'Biselli': 'Sanguinetti', \n",
    "                    'De Escalada': 'Remedios de Escalada', \n",
    "                    'Dr Casal': 'Mauricio Casal', \n",
    "                    'Zabala': 'Zavalla', \n",
    "                    'J Casals': 'Joaquina de Casals', \n",
    "                    'Cerrillos': 'Pasaje Cemillos', \n",
    "                    'Mougfeld': 'Avenida Arquitecto Mongsfeld', \n",
    "                    'Cortada Vigil': 'Constancio C. Vigil', \n",
    "                    'Ing Venesia': 'Gualberto Venesia', \n",
    "                    'Flamarion': 'Camilo Flammarion', \n",
    "                    'Maquinista Gallini': 'Gallini', \n",
    "                    'Falcon': 'Biblioteca Vigil', \n",
    "                    'Tunel': 'Pasaje Túnel', \n",
    "                    'Newery': 'Newbery',\n",
    "                    'Solezzi': 'Zolessi', \n",
    "                    'Mandara': 'Pasaje Mansilla', \n",
    "                    'Ardeopa': 'Alfredo de Arteaga', \n",
    "                    '2126': 'Avellaneda', \n",
    "                    'Mu?iz': 'Muñiz', \n",
    "                    'Aldrey': 'Buchanan', \n",
    "                    'Correo Argentino': 'Central Argentino', \n",
    "                    'De Nito': 'Pasaje De Nito', \n",
    "                    'Colectora Oeste': 'Colectora de Autopista (Oeste)', \n",
    "                    'Campanita': 'Pasaje 2138', \n",
    "\t\t            'Int Morcillo': 'Avenida Intendente Morcillo', \n",
    "                    'Casacuberta': 'Juan A. Casa Cuberta', \n",
    "                    'Manuel Flores': 'Las Flores', \n",
    "                    'Boero': 'Pasaje Boero', \n",
    "                    'Francisco Tarragona': 'Tarragona', \n",
    "                    'Santa Maria De Nicasio Nicasio Oroño': 'Santa María de Oro', \n",
    "                    'Opicci': 'Pedro Oppici',  \n",
    "                    'Juan Pablo Ii (colect Avenida Circunvalacion)': 'Juan Pablo II', \n",
    "                    'Dr Sabattini': 'Avenida Amadeo Sabattini', \n",
    "                    'Jaske': 'Jaques', \n",
    "                    'Aguetta': 'Teniente Agneta', \n",
    "                    '1849': 'Calle 1840', \n",
    "                    'Rp N&#186; 21': 'Ruta Provincial 21', \n",
    "                    '1349': 'Calle 1359',\n",
    "                    '1331': 'Camino 1331',\n",
    "                    'Marquez De Moya': 'Moya', \n",
    "                    '1404': 'Pasaje 1474', \n",
    "                    'Silva 1000': 'Cayetano Silva', \n",
    "                    'Monsgfeld': 'Avenida Arquitecto Mongsfeld',\n",
    "                    'Frondizzi': 'Avenida Arturo Frondizi', \n",
    "                    'Hc Agneta': 'Teniente Agneta', \n",
    "                    'Ortiz De Guinea': 'Siripo', \n",
    "                    '1428': 'Avenida Alberto J. Paz',  \n",
    "                    'Schmild': 'Schmidl Ulrico', \n",
    "                    '1366': 'Calle 1367',  \n",
    "                    '1507': 'Pasaje 1517', \n",
    "                    '1426': 'Aduana',  \n",
    "                    'Circunvacion': 'Juan Pablo II', \n",
    "                    'Sanchez Granel': 'Granel',\n",
    "                    'Ing Lamas': 'Intendente Luis Lamas',\n",
    "                    'Cervantes Saavedra': 'Cervantes',\n",
    "                    'Gob Caesar': 'Avenida Gobernador Caesar',\n",
    "                    'Tte Sanchez': 'Teniente General Sánchez'}"
   ]
  },
  {
   "cell_type": "markdown",
   "metadata": {},
   "source": [
    "Una vez definido el diccionario con los cambios, se procede a corregir las calles que el algoritmo de matching confundió. Para ello, se comparan las claves del diccionario *'similares'*, y si alguna coincide con alguna clave del diccionario *'cambios_rosario'*, su valor será reemplazado.\n",
    "\n",
    "Finalmente, los valores originales del dataframe serán reemplazados según el diccioanario final *'similares'*."
   ]
  },
  {
   "cell_type": "code",
   "execution_count": null,
   "metadata": {},
   "outputs": [],
   "source": [
    "copia_similares = similares.copy()\n",
    "\n",
    "for key in copia_similares: # elimino las claves del diccionario 'similares' que figuren en la lista 'eliminar'\n",
    "    if key in eliminar:\n",
    "        del similares[key]\n",
    "    elif key in cambios_rosario: # si la clave coincide con alguna de los cambios, modifico su valor.\n",
    "        similares[key] = cambios_rosario[key]\n",
    "\n",
    "# itero sobre el dataframe 'accidentes_ciudad' y actualizo 'calle_lista' según los valores en 'similares'\n",
    "for index, row in accidentes_ciudad.iterrows():\n",
    "    for i, calle in enumerate(row['calle_lista']):\n",
    "        cambio_key = similares.get(calle)\n",
    "        if cambio_key is not None:\n",
    "            if isinstance(cambio_key, list):\n",
    "                accidentes_ciudad.at[index, 'calle_lista'][i] = ' '.join(cambio_key)\n",
    "            else:\n",
    "                accidentes_ciudad.at[index, 'calle_lista'][i] = cambio_key"
   ]
  },
  {
   "cell_type": "markdown",
   "metadata": {},
   "source": [
    "El siguiente bloque de código aborda casos particulares que no pudieron ser tratados con los procedimientos anteriores."
   ]
  },
  {
   "cell_type": "code",
   "execution_count": null,
   "metadata": {},
   "outputs": [],
   "source": [
    "accidentes_ciudad.loc[14332, 'calle_lista'][accidentes_ciudad.loc[14332, 'calle_lista'].index('')] = 'Pasaje B'\n",
    "accidentes_ciudad.loc[11446, 'calle_lista'][accidentes_ciudad.loc[11446, 'calle_lista'].index('')] = 'Pasaje A'\n",
    "accidentes_ciudad.at[87147, 'calle_lista'] = ['Avenida Battle y Ordoñez', 'Calle 2106']\n",
    "accidentes_ciudad.at[93344, 'calle_lista'] = ['5 de Agosto', 'Calle 521']\n",
    "accidentes_ciudad.at[393, 'calle_lista'] = ['San Martin', 'Avenida Battle y Ordoñez']\n",
    "accidentes_ciudad.at[19717, 'calle_lista'] = ['Lopez', 'Silos Davis']\n",
    "accidentes_ciudad.at[5313, 'calle_lista'] = ['Francia', 'Estado de Israel']\n",
    "accidentes_ciudad.at[3127, 'calle_lista'] = ['25 de Mayo', 'Sorrento']\n",
    "accidentes_ciudad.at[3136, 'calle_lista'] = ['25 de Mayo', 'Sorrento']\n",
    "\n",
    "indices_a_actualizar = [2931, 2947, 2993, 3012, 3026, 3028, 3028, 3030, 5628, 5669, 5673, 8329]\n",
    "\n",
    "for indice in indices_a_actualizar:\n",
    "    accidentes_ciudad.at[indice, 'calle_lista'] = [\n",
    "        'Avenida Battle y Ordoñez' if elem == '' else elem for elem in accidentes_ciudad.at[indice, 'calle_lista']]"
   ]
  },
  {
   "cell_type": "markdown",
   "metadata": {},
   "source": [
    "Finalmente, se vuelve a calcular el número total de elementos (calles participantes del siniestro) de cada lista de la columna *'calle_lista'*, actualizando los valores de *'numero_calles'*."
   ]
  },
  {
   "cell_type": "code",
   "execution_count": null,
   "metadata": {},
   "outputs": [
    {
     "data": {
      "text/plain": [
       "numero_calles\n",
       "2    26347\n",
       "1     4418\n",
       "0     3156\n",
       "3       13\n",
       "Name: count, dtype: int64"
      ]
     },
     "execution_count": 78,
     "metadata": {},
     "output_type": "execute_result"
    }
   ],
   "source": [
    "accidentes_ciudad['numero_calles'] = accidentes_ciudad['calle_lista'].apply(lambda x: len(x) if (isinstance(x, list) and len(x) > 0 and x[0].strip() != '') else 0)\n",
    "counts = accidentes_ciudad['numero_calles'].value_counts()\n",
    "counts"
   ]
  },
  {
   "cell_type": "markdown",
   "metadata": {},
   "source": [
    "## Geocodificar direcciones puntuales con Nominatim"
   ]
  },
  {
   "cell_type": "markdown",
   "metadata": {},
   "source": [
    "En esta sección se geocodificarán las direcciones puntuales, como Pasco 1550, con Nominatim. En primer lugar, filtraremos los siniestros a geocodificar, es decir, todos ellos que posean valores nulos en la columna *'forma_geocod'*."
   ]
  },
  {
   "cell_type": "code",
   "execution_count": null,
   "metadata": {},
   "outputs": [],
   "source": [
    "siniestros_a_geocodificar = accidentes_ciudad[accidentes_ciudad['forma_geocod'].isnull()]  #nos quedamos con los que no están geocodificados"
   ]
  },
  {
   "cell_type": "markdown",
   "metadata": {},
   "source": [
    "Luego, se define la función **geocodificar_dir_puntual**, que recibe una dirección y utiliza Nominatim para obtener su localización geográfica. \n",
    "\n",
    "Para evitar errores de geocodificación debido a problemas de conexión o saturación del servidor, se introduce una espera de 3 segundos entre cada iteración y una espera adicional de 2 segundos en caso de que sea necesario reintentar la geocodificación. Este criterio se adoptó después de varios intentos fallidos, donde la saturación del servidor resultaba en geocodificaciones erróneas o en errores que impedían completar la geocodificación de la dirección."
   ]
  },
  {
   "cell_type": "code",
   "execution_count": null,
   "metadata": {},
   "outputs": [],
   "source": [
    "def geocodificar_dir_puntual(direccion, max_retries=3):\n",
    "    '''Geocodifica una dirección puntual con Nominatim'''\n",
    "    geolocator = Nominatim(user_agent=\"mi-aplicacion\", timeout=3)\n",
    "\n",
    "    if isinstance(direccion, list):\n",
    "        direccion = direccion[0]\n",
    "\n",
    "    direccion_completa = f\"{direccion}, Rosario, Rosario, Santa Fe, Argentina\"\n",
    "    \n",
    "    retries = 0\n",
    "    while retries < max_retries:\n",
    "        try:\n",
    "            location = geolocator.geocode(direccion_completa)\n",
    "            if location:\n",
    "                latitud = str(location.latitude)\n",
    "                longitud = str(location.longitude)\n",
    "                return f\"{latitud}, {longitud}\", direccion\n",
    "            else:\n",
    "                return \"no funciono\", [direccion]\n",
    "\n",
    "        except Exception as e:\n",
    "            print(f\"Error en la geolocalización para la dirección {direccion}: {e}\")\n",
    "            retries += 1\n",
    "            time.sleep(2)  # esperar 2 segundos antes de reintentar, sino a veces da error\n",
    "\n",
    "    return \"no funciono\", direccion"
   ]
  },
  {
   "cell_type": "markdown",
   "metadata": {},
   "source": [
    "La función definida anteriormente se utiliza en el siguiente código, donde se filtran los siniestros con una única calle involucrada. Los resultados se almacenan en las columnas *'forma_geocod'* y *'calles_osm'*."
   ]
  },
  {
   "cell_type": "code",
   "execution_count": null,
   "metadata": {},
   "outputs": [
    {
     "name": "stderr",
     "output_type": "stream",
     "text": [
      "C:\\Users\\Usuario\\AppData\\Local\\Temp\\ipykernel_2976\\1376719921.py:14: SettingWithCopyWarning:\n",
      "\n",
      "\n",
      "A value is trying to be set on a copy of a slice from a DataFrame.\n",
      "Try using .loc[row_indexer,col_indexer] = value instead\n",
      "\n",
      "See the caveats in the documentation: https://pandas.pydata.org/pandas-docs/stable/user_guide/indexing.html#returning-a-view-versus-a-copy\n",
      "\n",
      "C:\\Users\\Usuario\\AppData\\Local\\Temp\\ipykernel_2976\\1376719921.py:14: FutureWarning:\n",
      "\n",
      "Setting an item of incompatible dtype is deprecated and will raise in a future error of pandas. Value '['Mendoza 3900', 'Francia 4600', 'Lamadrid 3225', 'Avellaneda 4900', 'Biedma 3800', 'Sanchez De Loria 1300 Bis', 'Ovidio Lagos 7000', 'Ovidio Lagos 7700', 'Pasaje 1819', 'H Quintana - Francia 5400', 'Cullen 3597', 'Galvez 5239', 'Juan José Paso 8400', 'Eva Peron 8700', 'Francia 3500', 'Bulevar Juan Francisco Seguí 2000', 'Arijon 1200', 'San Martin 6100', 'Entre Rios 2400', 'San Martin 4700', 'Riobamba 200', 'Maipu 1700', 'Galvez 300', 'Frias 481', 'San Martin 2900', 'Reconquista 900', 'Tunel Celedonio Escalada', 'Casiano Casas 1000', 'Pasco 5300', 'Rondeau 1000', 'Provincias Unidas 661', 'Avellaneda 300 Bis', 'Carrasco 2300', 'Carrasco 1500', 'Carrasco 900', '9 de Julio', 'Necochea', 'Gorriti 5700', 'Mitre 800', 'Pasaje Baren De Mava', 'Primero De Mayo 1200', 'Balcarce 2100', 'Laprida 800', 'San Luis 2300', 'Pellegrini 200', 'Entre Rios 700', 'Cordoba 2300', '9 De Julio 1100', 'Sarmiento 1500', 'Sarmiento 1500', 'Arturo Ilia', 'Pellegrini', 'Lavalle 1600', 'Rioja 2600', 'Ovidio Lagos 1300', 'Francia 2800', 'Mendoza', 'Pueyrredon 731', 'Pellegrini 3600', 'Presidente 1746', 'F More 2400', 'Bulevar Juan Francisco Seguí 3500', 'Avellaneda 4900', 'Ovidio Lagos 3900', 'Eva Peron 8100', 'Cordoba 9500', 'Avellaneda 4400', 'Chacabuco 2200', 'Riobamba 600', 'Pellegrini', 'Galvez 1200', 'Cochabamba 1700', 'Entre Rios 2100', 'Avenida Intendente Morcillo', 'Pellegrini 2500', 'Centenario 100', 'San Martin', 'Pasaje Juncal 4700', 'Bulevar Juan Francisco Seguí 1300', 'Ghiraldo 1990', 'Blamberg 2600', 'Alzugaray', 'Arijon', 'Calle', 'En La Calle', 'Intersección De Dos Calles', 'Laprida 3500', 'Intersección Rosario', 'Intersección', 'Intersección', 'Eva Peron 5800', 'Fraga 924 Bis', 'Juan José Paso 5400', 'Tunel Celedonio Escalada', 'Calle', 'Doctor Francisco Riva 3040', 'Jujuy 2800', 'Francia 30 Bis', 'Junin 300', 'Junin 1800', 'Carrasco 2700', 'Colombres 1400', 'Rondeau 1200', 'Cullen', 'Pellegrini 3100', 'Pellegrini 3800', 'Pellegrini 3500', 'Mendoza 3700', 'San Luis 3700', 'Pasaje Ibera 3800', 'Buenos Aires', 'Alem 1600', 'Laprida 900', 'Entre Rios 1185', 'Dorrego 1142', 'San Juan 1800', 'Nicasio Oroñoño 900', 'Presidente Roca 1200', 'Ricardone 1300', 'Nicasio Oroñoño 800', 'Esquiu 6365', 'Avellaneda', 'Mendoza 4000', 'Mendoza 3000', 'Lavalle 1500', 'Cordoba 3200', 'Nicasio Oroñoño 900', 'Entre Rios 700', 'Rodriguez San Luis', 'Calle Ituzaingo 1800 General Paz 1800', 'Pellegrini 4000', 'Rioja 1200', 'Conway 4200', 'Predio La Siberia', 'Presidente Roca 900', 'Mendoza 2200', 'Rioja 2000', 'Entre Rios 900', 'Balcarce 1300', 'Balcarce 1300', 'Balcarce 966', 'Avellaneda 2600', 'Ituzaingo 3500', 'Belgrano 1800', 'Buenameson 200', 'Filipini', 'Colectora Ycandelos Granaderos', 'Sarmiento 2600', 'Las Palmeras', 'Medrano 1600', 'Moreno 1500', 'Brown 2100', 'Pellegrini 1900', 'Uriburu 200 Bis', 'Paraguay 2000', 'Juan Manuel de Rosas', 'Rodriguez 1500', '3 De Febrero 600', 'Belgrano 1000', 'Pellegrini 600', 'Alem 1000', 'Arijon 148', 'Bulevar Juan Francisco Seguí 1900', 'San Martin 4300', 'Presidentequintana 2600', 'Uruguay', 'San Martin 4200', 'Pacheco 400', 'Eva Peron 6500', 'Eva Peron 5800', 'Pedro Lino Funes 2100', 'Mendoza 5100', 'V Sarfield', 'Circuito Para Practica De Manejo (la Zapatilla)', 'French 900', 'Genova 2200', 'Presidente Peron 5300', 'Esquivel Y', 'Colombres 1500', 'Ovidio Lagos 7800', 'Ricardo Nuñez 400', 'Ovidio Lagos 6200', 'Felipe More 3900', 'Avellaneda', 'Martinez De Estrada 3000', 'Casiano Casas 1100', 'Jorge Newbery 7700', 'Wilde 500', 'Avellaneda 4800', 'Bertols 7500', 'Riobamba Colombres', 'Saavedra 2900', 'Ovidio Lagos 5200', 'Dean Funes 2900', 'Castellanos 5200', 'Avellaneda 4400', 'Jilguero 300', 'Eva Perón Bn Rna008', 'Corrientes 100', 'Libertad 1000', 'Pellegrini 400', 'Laprida 700', 'Mendoza 6027', 'San Juan 5100', 'Genova 1900', 'Juan Jose Paso 2000', 'San Lorenzo 3433', 'Avellaneda 500 (viaducto)', 'Casino Casas 2000', 'Republica Irak 13000', 'Avenida Battle y Ordoñez Al 600', 'Colectora Por Debajo Del Puente Rosario-victoria', 'Circuito Parque Alem', 'Alberdi 1400', 'Republica 8500', 'Frondizi Altura Piletas Parque Alem', 'French 900', 'Rondeau Washington', 'Machain 1000', 'Alsina 3000', 'Pellegrini 900', 'Alem 1300', 'Uiburu 3200', 'Santa Fe 5000', 'Carrilego 450', 'Rp N&#186; 21', 'Juan Pablo Ii 5600', 'Garay 3500', 'Rotnoda Jorge Newbery', 'Mendoza 300', 'Avenida Presidente Perón 8200', 'Mendoza 5500', 'Bruch 5300', 'Ovidio Lagos 5600', 'Avellaneda 5200', 'Francia 5200', 'Ovidio Lagos 6500', 'Francia 5300', 'Ovidio Lagos 5200', 'Biarritz 7800', 'Ovidio Lagos 6500', 'Richieri 770', 'San Luis 1700', 'Pellegrini', 'Balcarce 800', 'Alvear 1100', 'San Luis 4400', 'Pellegrini 4800', 'San Martin Del Huerto', 'Catamarca 1616', 'Salta 2300', 'San Lorenzo 1400', 'Francia 1200', 'Alvear', 'Hungría', 'Ayacucho 4340', 'Necochea 1900', 'Cochabamba 600', 'Ayacucho 2000', 'Arijon 1500', 'España 6400', 'Arijon 2100', 'Arijon 2100', 'Anchorena 2700', 'Ordoñez', 'San Martin 5000', 'San Martin 3700', 'Balcarce 3500', 'Bulevar Juan Francisco Seguí 2000', 'Avellaneda 3900', 'Constitucion 3400', 'Matienzo 2700', 'Ovidio Lagos 6300', 'Ovidio Lagos 6800', 'Francia 5400', 'Ovidio Lagos 7200', 'Martinez De Estrada 7800', 'Calle 1441 7700', 'Ciudadela 2900', 'Jorge Newbery 9100', 'Colectora Circunvalacion Sur/norte', 'Catamarca 1300', 'Corrientes 300', 'Circunvalacion 1800', 'Circunvalacion 1800', 'Provincias Unidas 100', 'Pellegrini 200', 'Necochea 3100', 'Callao 1200', 'Buenos Aires Galvez', 'Zaballos 2659', 'Grandoli 3800', 'Urquiza 1400', 'Urquiza 1400', 'Laprida 1700', 'Vera Mujíca', 'Salta 3000', 'Ovidio Lagos 500', 'Juan Manuel De Rosas 1700', 'Tunel Celedonio Escolado', 'Colon 2300', 'Pasaje Suarez 5000', 'Alberdi 500 Bis', 'Avenida Battle Y Ordoñez 2100', 'España 5800', 'Valentin Gomez 900', 'San Martin 6400', 'Entre Rios 2200', 'Rondeau 1300', 'Nicasio Oroñoño', 'Nicasio Oroñoño', 'Avenida Battle y Ordoñez 400', 'Bermudez 6300', 'San Martin 3700', 'Santa Fe 4400', 'Humberto 1&#186; 2100', 'Uruguay 2500', 'Rio De Janeiro 1080', 'Ovidio Lagos 900', 'Mendoza 500', 'Pueyrredon 1000', 'Francia 1800', 'Pellegrini 3200', 'San Juan 4600', 'Laprida 1200', 'España 849', 'Pellegrini 1300', 'Turin 4685', 'J B Justo 2730', 'Eva Peron 5800', 'Rioja 1200', 'Dorregoy San Luis', 'Urquiza 2106', 'San Lorenzo 900', '9 De Julio 1268', 'Belgrano 1000', 'Ituzaingó', 'Rondeau 3700', 'Arijon 170', 'Tarragona Bis 400', '27 De Febrero 400', 'Bulevar Juan Francisco Seguí', 'Francia 5200', 'Santa Fe 3600', 'Tunel Celedonio Escalada', 'Irurtia 7900', 'Catamarca 2666', 'Schweitzer 8130', 'J B Justo 8060', 'Genova 1400', 'Hilarion De La Quintana 5200', 'Almafuerte 1100', 'Ovidio Lagos 6800', 'Buenos Aires 1200', 'Savin 500', 'Frondizi A 1200', 'Florida 600', 'Pellegrini Bis 100', 'Laprida 700', 'Pellegrini 515', 'Buenos Aires 700', 'San Juan 400', 'Rondeau 600', 'Buenos Aires 5341', 'San Luis 1900', 'Carriego 500', 'Tenienteagneta 1100', 'Pellegrini 1100', 'Circunvalación 25 De Mayo 1810', 'Sarmiento', 'Presidenteroca 1238', 'Corrientes 700', 'Pueyrredon 900', 'Servando Bayo 1500', 'Balcarce 1400', '3 De Febrero 4700', 'San Lorenzo 700', 'San Lorenzo 1890', 'Urquiza 2100', 'Catamarca', 'Belgrano 800', 'Baigorria 1900', 'Larrechea 1800', 'Mendoza 3600', 'Pellegrini 3700', 'Circunvalacion A', 'Colectora Carril Sur-norte', '25 De Mayo 2200', 'Pascual Rosas 900', 'Mendoza 3300', 'Iriondo 2711', 'Gutenberg 1400', 'Pellegrini 4700', 'Avellaneda 1300', 'Lavalle 1300', 'Mendoza 3445', 'España 4000', 'Alvear 3400', '27 de Febrero', 'Uruguay 2200', 'Arijon 500', 'San Martin 3100', 'Uruguay 1100', 'Raffo 5100', 'Corrientes 5500', 'Laprida 3400', 'Sarmiento 600', 'Belgrano 900', 'Mitre 600', 'Dorrego 1300', 'Corrientes 1500', 'Alvear 1300', 'Mendoza 1700', 'Dorrego 1054', 'Dorrego 1054', 'Cordoba 2200', 'Pellegrini 4900', 'Cordoba 5900', 'Montevideo 6400', 'Colectora 25 De Mayoo 1900b', 'Juan José Paso 5400', 'Genova 2300', 'Genova', 'Puente Colgante', 'San Juan 4700', 'Sorrento 700', 'Valentin Gomez 3100', 'Montevideo 3600', 'Lavalle 1300', 'Centenario Bis 1300', 'Pellegrini 3700', 'Herrera 900', 'Rondeau 2800', 'Chacabuco 3100', 'Velez Sarsfield 2400', '27 De Febrero 4500', 'Gutierrez 1944', 'Rosario 2300', 'Pueyrredon 4800', 'San Martin 6900', 'Rueda', 'Rio Negro 2400', 'Baigorria 2277', 'Peyrano 2700', 'Corrientes 2700', 'Pellegrini 600', '3 De Febrero 900', 'Jorge Newbery 8600', 'Irala 2800', 'Asamblea 600', 'Paraguay', 'Piamonte', 'Circunvalacion 5300', 'Avellaneda 5200', 'Valparaiso 2000', 'Gaboto 1655', 'Pueyrredon 3900', 'Presidenteroca 4300', 'Uriburu 1900', 'Provincias Unidas 970', '27 De Febrero 1050', 'Riobamba 1975', 'Avenida Battle y Ordoñez 1700', 'Arijon 600', 'Caña De Ambar 1500', 'Paraguay 2500', 'Ayacucho 5335', 'Ayacucho 5800', 'Colectora', 'Laprida', 'Benito Juarez 200', '27 De Febrero 1600', '27 de Febrero', 'Laprida 2300', 'Rodriguez 4500', 'Provincias Unidas 300bi', 'Jose Ingenieros 8519', 'San Martin 3700', 'Saavedra 3500', 'Saavedra 3500', 'Ovidio Lagos 5100', 'Eudnicasio Oroño Carrasco 1500', 'Ovidio Lagos 6300', 'Ovidio Lagos 6700', 'Ovidio Lagos 7700', 'Ovidio Lagos 6000', 'Rondeau 1000', 'Ovidio Lagos 5400', 'Centeno 2900', 'Rondeau 700', 'Colombres 1600', 'Washington 700', 'Blas Parera', 'Rondeau', 'Medrano', 'Junin 500', 'José Colombres', '27 De Febrero 7300', 'Callao Bis 150', 'Sanchez De Loria 1367', 'España 441', 'Laprida 900', 'Biedma 1200', 'Alfredo Rouillón 4200', 'Gaboto 1200', 'Mitre 600', 'San Martin 5200', 'Ocampo 600', 'Ayacucho 5600', 'Uriburu 800', 'Pineda 6600', 'Pellegrini 1700', 'Sanchez De Bustamante 1200', 'Provincias Unidas 1341', 'Valentin Gomez 5000', 'Nicasio Oroñoño 1300', 'Cordoba 1600', 'Genova', 'Mariano Moreno 1500', 'Jujuy 1500', 'Avellaneda 6400', 'Mitre 3100', 'Belgrano 2671', 'Corrientes 400', 'Nicasio Oroñoño 140', 'San Martin', 'Belgrano 900', 'Tucuman 1800', 'Nicasio Oroñoño 4556', 'Del Huerto 1300', 'Pellegrini 3700', 'Salta 2100', 'Camino De Los Granaderos 3200', 'Real 8300', 'Avellaneda 4200', '9 de Julio', 'Pellegrini 400', 'Pellegrini 900', 'Maipu 900', 'Belgrano 900', 'Ayacucho 1200', 'Pellegrini 900', 'Buenos Aires 1400', 'San Luis 900', 'Laprida 1600', 'Buenos Aires 1000', 'San Juan 3450', 'Francia 1800', 'Francia 1800', 'Buenos Aires 1300', 'Garay 5200', 'L N Alem 1600', 'J M De Rosas 1000', 'Belgrano 1100', 'Juan Xxiii 1700', 'Belgrano 2900', 'Lamadrid 1900', 'Cafferata 200', 'Ovidio Lagos 5300', 'Circunvalacion 4000', 'Ovidio Lagos 6300', 'Ovidio Lagos 6300', 'Colectora 3000', 'San Martin 6400', 'Bulevar Juan Francisco Seguí 2400', 'Junin 1300', 'Echeverria Bis 200', 'Circunvalacion', 'Presidenteperon', 'French 1800', 'Sorrento 1300', 'Uriarte 600', 'Cordoba 6301', 'Grandoli 4000', 'Guatemala', 'Camino De Los Granaderos 3000', 'Casiano Casas 2021', 'Gaboto 5500', 'Donado 1300', 'Nn', 'Terranova 8000', 'Mitre 1200', 'Grandoli 4000', 'Dorrego 1300', 'Presidenteroca 920', 'Brown 2100', 'Callao 755', 'L N Alem 1700', 'Colon 2300', 'Sarmiento 500', 'Laprida 2600', 'Pueyrredon 700', 'Salta 1900', 'Primero De Mayo 2100', 'Nicasio Oroñoño 500', 'Pascual Rosas 900', 'Brown 500', 'J Colombres 1600', 'Juan Pablo Ii 1340', 'Genova 2300', 'Lavalle 2042', 'Celestino Escalada', 'Godoy Cruz 8000', 'Washington 1400', 'Calle 1345 2400', 'Colon 2700', 'Pellegrini Bis 100', 'Pellegrini 800', 'Maipu 900', 'Pasaje Maraton', 'Galvez 2100', 'Vera Mujica 3200', '27 De Febrero 1900', 'Pellegrini 1600', 'San Juan 4800', 'San Martin 1839', 'Pellegrini 4800', 'Avellaneda 700', 'Uriburu', 'Lola Mora', 'Pellegrini 800', 'Punta Del Indio 7900', 'Ovidio Lagos 5300', 'Francia 5400', 'Caupolican 800', 'Mitre 3700', 'Chacabuco 3500', '27 De Febrero 2900', 'San Martin 4800', 'San Martin 2045', 'Bulevar Juan Francisco Seguí 1800', 'San Luis S/d', 'Entre Rios 1647', 'San Martin 6300', 'San Martin 6200', 'San Martin 6200', 'Barón de Mauá', 'San Martin 6300', 'Avenida Battle y Ordoñez 900', 'Arijon 1400', 'Laprida 1300', 'San Juan 1400', 'Playa Chica 7924', 'Avellaneda B 4000', 'French 6640', 'Ovidio Lagos 6200', 'Camino Viejo A Soldini 3900', 'Urquiza 900', 'Ovidio Lagos 7500', 'Arijon 1300', 'Constitucion 800', 'Luzurriaga 2600', 'Amenabar 280', 'Laprida 1300', 'Laprida 1000', 'Avenida Battle y Ordoñez 1285', 'Buenos Aires 5800', 'Colon 1400', 'Pellegrini', 'Cerrito 4200', 'Ovidio Lagos 5200', 'J B Justo 7200', 'Suipacha 1000', 'Zelaya 1100', 'Corrientes 1700', 'San Martin 1200', 'Mitre', 'Montevideo 4000', 'Rondeau 2800', '9 De Julio 2400', 'J C Paz 1156', 'San Lorenzo 2400', 'San Lorenzo 1700', 'Liniers 5500', 'Gorriti 300', 'Casilda 1300', 'Casilda 1300', 'Francia 200', 'Junin 500', 'Montes Carballo 1500', 'Alberti 300', 'Santa Fe 1645', 'Santa Fe 1645', 'Ing Thedy Bis 200', 'Velez Sarsfield 200', 'Mendoza 4000', 'Echeverria Bis 400', 'Velez Sarsfield 1200', 'Cordoba 5800', 'Circunvalacion', 'Pellegrini 6100', 'Montes Carballo 1500', 'Ing Thedy Bis 100', 'Provincias Unidas 1300', 'Bendi 100', 'Iguazu 100', 'Montes Carballo 400', 'Laprida 2600', 'Pellegrini 3900', 'Pellegrini 2900', 'Pueyrredon 1400', 'Pellegrini', 'Dorrego 1800', 'Urquiza 3131', 'Pasaje Ferran 480', 'Ayacucho 5300', 'Montes Carballo 300 B', 'Montes Carballo 400', 'Rondeau 2500', 'Sorrento 700', 'Rondeau 3600', 'Cabassa 2100', 'Bulevar Juan Francisco Seguí 3100', 'San Martin 3700', 'Avellaneda 4500', 'Ovidio Lagos 3600', 'Ee Uu 1800', 'Salta 2900', 'San Martin 5000', 'Circunvalacion 1977', 'Buenos Aires 2100', 'Travesia 100', 'Francia 100', '27 De Febrero 828', 'Colon 365', 'Alberti 900', 'Juan B. Justo', 'Casiano Casas 140', 'Pacheco 2000', 'Fraga 1293', 'Buenos Aires 1300', 'Nicasio Oroñoño Xx', 'Corrientes 500', 'Godoy Cruz 7700', 'Provincias Unidas 3200', 'Mendoza 2700', 'Cordoba 4300', 'Ovidio Lagos 700', 'Ovidio Lagos 6100', 'Presidentequintana 5600', 'San Martin 6000', 'Baigorria 2200', 'Alberdi', 'Gorriti 600', 'Avellaneda 300', 'Avenida Battle y Ordoñez 1399', 'Pasaje Publico 7600', 'Mendoza 7700', 'Ayacucho 4300', 'Estacionamiento Libertad', 'Avenida Battle y Ordoñez 5300', '27 De Febrero 500', 'Maipu 2026', 'Juan José Paso 2000', 'Serrano 5700', 'San Martin 4100', 'Ituzaingo 900', 'L N Alem', 'Mariano Moreno 3974', 'Mitre 2900', 'Doctor Francisco Riva 2200', 'La Paz 1679', '25 De Mayo 3500', 'Pasaje 303 1400', 'Presidenteroca B 4500', 'Rondeau 1900', 'Iriondo 300', 'Avellaneda 100', 'Pellegrini 3600', 'Luis Carballo 900', 'Avellaneda 400', 'España 2100', 'Nicasio Oroñoño 2200', 'Virasnicasio Oroño 1300', 'Pueyrredon 700', 'Ovidio Lagos 800', 'Santa Fe 1050', 'Alberdi Bis 260', 'Alberdi Bis 200', 'Casilda 1100', 'Alberdi Bis 100', 'Diaz Velez 200', 'Herrera', 'Valparaiso 2000', '3 De Febrero 4310', 'Mendoza 3700', 'Cafferata 700', 'Pellegrini 600', '9 De Julio 500', 'Santa Fe 2900', 'Francia 700', 'Primero De Mayo 800', 'Junin 2100', 'J B Justo', 'Jorge Newbery 800', 'J B Justo 8300', 'Circunvalacion 1250', 'Pellegrini 6500', 'Mendoza 5200', 'Casiano Casas 1900', 'Pellegrini 5400', 'Casiano Casas 1900', 'Ovidio Lagos 5500', 'Provincias Unidas 1400', 'Eva Peron 6600', 'Gaboto 4000', 'Uriburu 3300', 'Presidenteroca 800', '9 De Julio 1800', 'Pellegrini 1100', 'San Luis 1600', 'Catamarca 1900', 'Rivarola 8000', 'San Luis 1700', 'Rivarola 7200', 'Presidenteperon 4500', 'Avenida Battle y Ordoñez 1400', '3 De Febrero 600', 'Pellegrini 100', 'Santa Fe 1080', 'Cordoba 4400', 'Callao Xxxx', 'Alfredo Rouillón 4200', 'Camilo Aldao 2900', 'Godoy Cruz 5200', 'Velez Sarsfield 200', 'Ntra Sra Del Rosario 100 B', 'Pasaje Ortiz', 'Rondeau 4200', 'Avellaneda 1000', 'B Alvarez', 'Ameghino 900', 'San Martin 4800', 'Echeverria Bis 150', 'Doctor Francisco Riva 50', 'Junin 500', 'Casilda 200', 'Eudnicasio Oroño Carrasco 1000', 'Pellegrini 4200', 'Avellaneda 300', 'Luis Carballo 700', 'Candido Carballo 200', 'Alberdi Bis 100', 'Caseros Bis 98', 'Alberdi Bis 300', 'Gorriti 400', 'Rodriguez 2900', '27 De Febrero 3000', 'Confederacion 963', 'Pasco 1300', 'Carlos Colombres 1600', 'Rondeau 1000', 'Sorrento', 'Junin 200', 'Pasaje Arenales 21', 'San Martin 1800', 'Luis Carballo 500', 'Mendoza', 'Rondeau 1200', 'Darragueira 1900', 'Schweitzer 8160', '27 De Febrero 1800', 'Danti Aligheri', 'San Martin 5400', 'Avenida Battle y Ordoñez 2100', 'Anchorena', '5 De Agosto 2144', 'Pellegrini 1149', '27 De Febrero 2820', 'Ovidio Lagos 6600', 'Ovidio Lagos S/n', 'San Martin 6300', 'Platon 1300', 'Entre Rios 6200', 'San Martin A 4800', 'Bulevar Juan Francisco Seguí 2600', 'Mariano Moreno 3900', 'Pellegrini 1600', 'Male Roxlo 4600', 'Santiago 800', 'Nicasio Oroñoño 165 B', 'Pellegrini 4400', 'E Zeballos 2500', 'Brown 1700', 'J B Justo 8336', 'Mendoza 4500', 'Crespo 900', 'Avellaneda 700', 'Mendoza 4000', 'Avellaneda 1400', 'Pellegrini 3500', 'Mendoza 2300', 'Corrientes 5200', 'Entre Rios 1119', 'Pellegrini 1400', 'Garay 1038', '27 de Febrero', 'San Juan 2000', 'Pellegrini 600', 'Corrientes 2400', 'Dorrego 3900', 'Paraguay 3300', 'Casiano Casas 1973', 'Sarmiento 2400', 'Presidenteroca 2700', 'D Infante', 'Nuestra Señora del Rosario', 'Junin 2300', 'Callao 3800', 'Mascardi 870', 'Cafferata 1100', '9 De Julio 3100', 'Sucre 1000', 'San Martin 4800', 'L N Alem 2900', 'Uriburu 1900', 'Paraguay 3300', 'Mendoza 4500', 'Santiago 800', 'Francia 1600', 'Ovidio Lagos 800', 'Lugones', 'E Zeballos 3200', 'Ayolas 2600', 'Rondeau 3800', 'Sorrento 1400', 'Avenida Battle y Ordoñez 900', 'San Martin 6300', 'Avenida Battle y Ordoñez', 'Salta 2500', 'Ovidio Lagos 6100', 'Salta 3300', 'Pasaje Ruiz Bis', 'Ovidio Lagos 6400', 'Francia 3900', 'Arijon 1700', 'Urquiza 1100', 'Illia', 'Avenida Guillermo Wheelwright', 'España 213', 'Circunvalacion Bis 1900', 'Mendoza 1400', '9 De Julio 2000', 'Rioja 1040', 'Mendoza 2000', 'De La Tradicion 300', 'Pellegrini 500', 'Bulevar Juan Francisco Seguí 5400', 'Arévalo', 'Pellegrini 5300', 'J M De Rosas 2300', '27 De Febrero 20:15', 'Jose Ingenieros 8400', 'Pellegrini 7400', 'Pasaje L De La Torre 100', 'Ayala Gauna 7700', 'San Juan 3800', 'Cabildo 600', 'Esquivel 6040', 'San Martin 6549', 'Calle 2106 7000', 'Laprida 2000', 'Uriburu 8100', 'La Paz 200', 'Alfredo Rouillón 3200', 'Forest 7200', 'L N Alem 2300', 'Eva Peron 5800', 'Sarmiento 2900', 'Solis 600', 'Pedro Lino Funes 2100', 'J B Justo 7400', 'Pellegrini 6400', 'Caseros Bis 100', 'Echeverria Bis 400', 'J B Justo 7400', 'Santa Fe 3100', 'Santa Fe 2755', 'Pueyrredon 422', 'Mitre 500', 'Santiago 200', 'Juan José Paso 2076', 'Ovidio Lagos 1400', 'Avellaneda 2860', 'Iriondo 1000', 'Ricchieri 1000', 'Ricchieri 1000', 'San Luis 1800', 'F Flynn Bis 2000', 'Mendoza 7400', 'Donado 7600', 'Donado 500 B', 'J B Justo 7700', 'Pujato', 'San Luis 800', 'Montevideo 800', '9 De Julio 300', 'L N Alem 1100', 'Montevideo 900', 'Cerrito 7400', 'Rondeau 4200', 'Rafael Arrieta 200', 'Mitre 500', 'L N Alem 2800', 'San Martin 3900', 'Sorrento 6300', 'Mendoza 7500', 'Larrea 680', 'Riobamba 800', '27 De Febrero 2700', 'Uruguay 2200', 'Sarmiento 3200', 'Sarmiento 3000', 'San Martin 4900', 'España 500', '27 de Febrero', 'Urquiza 1455', 'Pellegrini', 'Belgrano 300', 'Italia', 'Galvez', 'Nicasio Oroñoño 2000', 'Avenida Hipólito Irigoyen 1300', 'Belgrano 1900', 'J Lovalvo 2600', 'Circunvalacion 9100', 'Cochabamba 1100', 'Pellegrini 3200', 'E Zeballos 2800', 'La Paz 2800', 'Cordoba 4300', 'Cafferata 1600', 'Rioja 1700', '9 de Julio', '9 De Julio 1600', 'Avellaneda 500', 'Presidenteperon 8300', 'Salta 2300', 'E Zeballos 1600', 'Catamarca 1900', 'Mendoza 1400', 'Tucuman 2000', 'San Juan 2350', 'Provincias Unidas 2100', 'Francia', 'Corrientes 1150', 'Alfredo Rouillón 3300', 'San Martin 1500', 'Cordoba 5700', 'Bertole 7900', 'Francia', 'Colectora 1977', 'Martin Fierro 500', 'Avellaneda 1600', 'Montevideo 3800', 'Paseo Rivereño', 'Eudnicasio Oroño Carrasco 3500', 'Paysandu 400', '9 De Julio 1200', 'Italia 800', 'San Martin 1900', 'Pellegrini 900', '3 De Febrero 2200', 'Rioja 800', 'Mariano Moreno 600', 'Santa Fe 1800', 'San Lorenzo 900', 'Colon 1400', 'Salta 1200', 'Luis Carballo 100', 'Rondeau 4000', 'Pasaje Bogado 1335', 'Colectora (1300bis) 1300', 'Rondeau 1100', 'San Lorenzo 3500', 'Avellaneda 60', 'Eudnicasio Oroño Carrasco 4600', 'French 6000', 'Juan José Paso 2600', 'Juan José Paso 2400', 'G Carrasco', 'Pasaje Franklin 2600', 'Frondizi A', 'Rondeau 3500', 'Tucuman 3044', 'Pueyrredon 1500', 'Sorrento 1600', 'Pellegrini 6500', 'Crespo 1200', 'La Paz 6400', 'Pellegrini 6500', 'Pellegrini 1600', 'Entre Rios 2300', 'Centenario 100', 'Presidenteroca 2700', 'Bulevar Juan Francisco Seguí 1000', 'Ovidio Lagos 6500', 'Avenida Battle y Ordoñez 3436', 'San Martin 6300', 'Avenida Battle y Ordoñez 3400', 'Lima 3100', 'San Martin', 'San Luis 2959', 'E Zeballos 2632', 'Arequito 1000', 'Pellegrini 3700', 'Ovidio Lagos 5450', '9 De Julio 900', 'Necochea 2300', 'San Martin 2900', 'Nicasio Oroñoño 5735', 'Callao 1000', 'Ovidio Lagos 5300', 'San Juan 1200', 'Nicasio Oroñoño', 'San Nicolas 2638', 'Mendoza 3200', 'Ocampo', 'Nicasio Oroñoño 4500', 'Ituzaingo 1200', 'España 1900', 'Mitre 2700', 'San Martin 4900', 'Montevideo 2700', 'Cordoba 4600', 'Superi 1900', 'Montevideo 3100', 'Rioja', 'Castellanos 1035', 'Colectora 25 De Mayo 1900b', 'Uruguay 2200', 'Uriburu 1200', 'Ntra Sra Del Rosario 1200', 'Nicasio Oroñoño 4400', 'Ituzaingó', 'Entre Rios 2100', 'Dante Alighieri', 'Nicasio Oroñoño 1800', 'Buenos Aires 3800', 'Nicasio Oroñoño 500', 'Mariano Moreno 1100', 'Dorrego 1500', 'Corrientes 600', 'Necochea 3100', 'Presidenteroca 500', 'Mendoza 1500', 'E Zeballos 1200', 'Corrientes 400', 'San Martin 5300', 'Santa Fe 1100', 'Montevideo 2300', 'Santa Fe 1429', 'Mariano Moreno 200', 'Ovidio Lagos 7246', 'Bulevar Juan Francisco Seguí 1900', 'Arijon 1500', 'Mitre 800', 'Uriburu 2600', 'San Lorenzo 1200', 'Ovidio Lagos 7100', 'Tabares 5740', 'Mariano Moreno 239', 'Entre Rios 1100', 'Ovidio Lagos 6800', 'Francia 5300', 'Avenida Guillermo Wheelwright 1900', 'San Martin 7499', 'Illia 1000', 'Bertole 8200', 'Illia', 'Avellaneda B', 'Presidenteroca 1300', 'Santa Fe 1300', 'Sarmiento 1100', 'Mendoza 1600', 'Nicasio Oroñoño 1300', '3 De Febrero 1300', 'Rioja 1800', 'Mendoza 7500', 'Presidenteroca 1400', 'Cordoba 1600', '3 De Febrero 2000', 'Circunvalacion 1900b', 'Schweitzer 7800', '3 De Febrero 2200', 'Circunvalacion 1977', 'Ovidio Lagos 2200', 'Buenos Aires 1800', 'Bulevar Juan Francisco Seguí 2400', 'Dante Alighieri', 'Sarmiento 2600', 'Alice 5000', 'Ituzaingo 1232', 'Ituzaingo 1759', 'Galvez 1600', 'Amenabar 2700', 'Necochea 3000', 'Centeno 1700', 'Bulevar Juan Francisco Seguí', 'España 1835', 'Cochabamba 1248', 'Paraguay', 'San Martin 3200', 'Ayacucho 5200', 'Pasco 1900', 'Pellegrini 2700', 'Uruguay 1500', 'Cerrito 1867', 'Pasco 1265', 'Nicasio Oroñoño 4400', 'Corrientes 4200', 'Riobamba 2338', 'San Martin 6900', 'Bulevar Juan Francisco Seguí', 'Circunvalacion', 'Ovidio Lagos 6600', 'Pueyrredón', 'Ovidio Lagos 3300', 'Pasaje Raffo 5100', 'Bulevar Juan Francisco Seguí 3400', 'Avellaneda 4000', 'Francia 5200', 'L N Alem 3571', 'Circunvalacion 1300', 'Avellaneda 4800', 'Rondeau 3200', 'Salta 3070', 'Venezuela 100', 'San Nicolas 300', 'Genova 8100', 'Ovidio Lagos 5600', 'Mendoza 8000', '24 De Setiembre 3400', 'San Lorenzo 1200', 'Presidenteroca 1100', 'Italia 700', '3 De Febrero 2100', 'E Zeballos 1600', 'Sarmiento 1100', 'Ayacucho 200', 'Juan José Paso 7600', 'Corrientes 1200', 'Presidenteroca 1000', 'Maipu 900', 'España 1000', 'Mendoza 700', 'Corrientes 1000', 'Valparaiso 700', 'Francia 1900', 'San Juan 2800', 'Mariano Moreno 700', 'Derqui 7600', 'Cordoba 2500', '3 de Febrero', 'Brown 1600', 'Rioja 1400', 'E Zeballos 3345', 'Corrientes 1100', 'Mariano Moreno 800', 'Nicasio Oroñoño 1100', 'Alvear 800', 'Mariano Moreno 1500', 'Ecuador', 'Paraguay 1100', 'San Juan 4935', 'Pellegrini 5600', 'Viamonte 7100', 'Schweitzer 7700', 'Callao 700', 'Cordoba 4800', 'Presidenteperon 8100', 'Avellaneda 700', 'Pasaje Moss 1000', 'Callao 700', 'Mendoza 4400', 'Sarmiento 1300', 'Joaquín Lejarza 6000', 'Pellegrini 1000', 'De Los Inmigrantes 1600', 'Garibaldi 5300', 'San Juan 1200', '9 De Julio 1700', 'Costanera 2100', '9 De Julio 1500', 'San Juan 1200', 'Alvear 1200', 'Santa Fe 2000', 'Nicasio Oroñoño 1500', 'Dorrego 1300', 'Italia 1000', 'Santiago 700', 'Mendoza 1300', 'Sarmiento 1000', 'Lavalle 1500', 'Dorrego 1000', 'Virasnicasio Oroño 1200', 'Urquiza 2100', 'España 500', 'Ntra Sra Del Rosario 500', 'La Paz 1600', 'Ocampo 700', 'San Luis 1300', 'J M De Rosas 1600', 'Alvear 450', 'San Martin 4800', 'Bulevar Juan Francisco Seguí 1900', 'Avenida Battle y Ordoñez 5800', 'Dorrego', 'Ovidio Lagos 5840', 'Urquiza 1160', 'Lainez 774', 'Bulevar Juan Francisco Seguí 3000', 'Ovidio Lagos 7000', 'Avenida Battle y Ordoñez 2106', 'Francia 4800', 'Jorge Newbery 9100', 'España 400', 'San Jose De Calasanz 800', 'Arijon', 'Carriego 400', 'Crespo 1200', 'Junin 6949', 'Riobamba 7676', 'Olmos Bis 900', 'Ayala Gauna 7800', 'J B Justo 7165', 'Sorrento', 'Avellaneda 900', 'Alberti 300', 'Tucuman 2500', 'Juan José Paso 7800', 'Republica De Irak 170', 'Morrison 7500', 'Carbia 1700', 'Eva Peron 7300', 'Juan José Paso 7700', 'Corrientes 500', 'Genova 8300', 'L N Alem 1068', 'E Zeballos 800', '3 De Febrero 400', 'Belgrano 800', 'Presidenteroca 500', 'Belgrano 1510', 'Gonzalez Del Solar Bis 1300', 'L N Alem 1000', 'Urquiza 1700', 'Circunvalacion Bis 1400', 'Corrientes 1000', '9 De Julio 1300', 'Entre Rios 1000', 'Presidenteroca 900', 'Pellegrini 1000', 'Dorrego 1500', 'España 1100', 'Santa Fe 1600', '9 De Julio 1100', 'San Luis 1900', 'Jujuy 1600', 'Corrientes 1200', 'Italia 1400', 'Santa Fe', 'Balcarce 600', 'Pellegrini 5757', 'Salta 1800', 'Provincias Unidas 1200', 'Mitre 300', 'San Juan 2000', 'Sarmiento 1300', 'Mitre 800', '3 De Febrero 2100', 'Italia 1300', 'Presidenteperon 7400', 'Presidenteperon 8300', 'Nicasio Oroñoño 1600', 'Rivarola 8000', 'Presidenteroca 1200', 'De Las Palmeras 4500', 'Bulevar Juan Francisco Seguí', 'Avenida Battle y Ordoñez 3200', 'Camino Nuevo Soldini 3600', 'San Martin 6200', 'Ovidio Lagos 7300', 'Pasco 1000', 'Grandoli 3900', '27 De Febrero 100', 'Barra Bis 900', 'Junin 1300', 'Mitre 1800', 'Jujuy 2900', 'Ayolas', 'Avellaneda', '3 De Febrero 2718', 'Cordoba 3500', 'Godoy Cruz 275', 'Guillermo Tell 400', 'Rondeau 2500', 'Junin 1300', 'Maciel', 'Junin 400', 'Albert Sabin 200 B', 'Cordoba 4727', 'Francia 1300', 'San Juan 3100', 'Rio De Janeiro 740', 'Necochea', 'San Martin 3700', 'Corrientes 4800', 'Nicasio Oroñoño 4500', 'Francisco de Miranda', 'España 4300', 'Corrientes 3500', 'Nicasio Oroñoño 4100', 'Sorrento Altura Travesia', '27 De Febrero 1100', 'Bulevar Juan Francisco Seguí 1700', 'España', 'Presidenteroca 2200', 'Viamonte 1500', 'Ayacucho 6100', 'Riobamba 2944', 'España 4518', 'Pellegrini 1800', '27 De Febrero 1000', 'J M De Rosas 1600', 'Buenos Aires 1000', 'Pellegrini 200', '27 De Febrero 1200', 'Italia 900', '9 De Julio 2300', '3 De Febrero 800', 'Alvear 500', 'Nicasio Oroñoño 00', 'Belgrano 500', 'Santiago 300', 'Montevideo 2100', 'Italia 550', 'Mendoza 4000', 'Pellegrini 200', '9 De Julio 3000', 'Montevideo 1600', 'Alberdi Bis 1100', 'Pellegrini 1500', 'Castagnino 1200', 'Espora', 'Rondeau 1214', 'Mendoza 3200', 'Italia 1200', 'J M De Rosas 2300', 'Balcarce 00', 'Nicasio Oroñoño 4500', 'Cochabamba 1700', 'Mitre', 'Uriburu 600', 'Callao 400', 'Laprida 5600', 'Uriburu', 'Venezuela 1400', 'Ayacucho 4219', 'Garay', 'Pellegrini 4700', 'San Juan 3700', 'Castellanos 1000', 'Belgrano 900', 'Avenida Guillermo Wheelwright 1100', 'San Lorenzo 1700', 'Ayolas 1100', 'Castagnino', 'Tucuman 1100', 'Cnl Fontana', 'Avellaneda 4600', 'Francia 5718', 'Avenida Battle y Ordoñez 4100', 'Avellaneda 3800', 'Nicasio Oroñoño 3526', 'Ovidio Lagos 6600', 'Avenida Battle y Ordoñez 3200', 'Wilde 800', 'Forest 7600', 'Pasaje Einstein 7100', 'Viamonte 7000', 'Pellegrini 5900', 'San Martin 6300', 'Nuestra Señora del Rosario', 'Mendoza Por Vias', 'Bulevar Juan Francisco Seguí 3400', 'Madre Cabrini C 2764', 'Eva Peron 5800', 'Buenos Aires', 'San Martin 3000', 'Presidentequintana', 'San Martin 4800', 'Paraguay 1400', 'Pasco 200', 'Belgrano 2500', 'Avenida Casiano Casas', 'Olavarria Bis 966', 'Int Lamas 1300', 'Catamarca', 'Don Bosco 100', 'Cordoba 4800', 'E Lopez 2800', 'Ovidio Lagos 400', 'Jujuy 3000', 'Eva Peron 4500', 'Gaboto 1717', '9 De Julio 2300', 'San Juan 3200', 'Nicasio Oroñoño 2800', 'Alberdi Bis 100', 'Vera Mujíca', 'Río de Janeiro', 'Alberdi Bis 200', 'G Carrasco 3700', 'Nicasio Oroñoño 2900', '3 De Febrero 1100', 'Mendoza 1600', 'Sarmiento 800', '3 De Febrero 1800', 'Cordoba 1700', 'Circunvalacion', 'Buenos Aires 1600', 'Nicasio Oroñoño 200', 'Mendoza 1000', 'Balcarce 100', 'Dorrego 1500', 'Marcos Paz 4000', 'San Martin 1300', 'Guemes 2189', 'Santa Fe 1000', 'San Lorenzo 1682', 'Nicasio Oroñoño 100', 'Camino De Los Granaderos 3900', 'Pellegrini 700', 'Primero De Mayo 900', 'Urquiza 1100', 'Entre Rios 500', 'Nicasio Oroñoño 900', 'Galvez 1200', 'Santiago 1000', 'Avellaneda 3600', 'Mariano Moreno 6300', 'Bulevar Juan Francisco Seguí 3700', 'Arijon 1200', 'Avenida Presidente Perón 7900', 'Mariano Moreno 6415', 'Pellegrini', 'Tarragona Bis 1600', 'Wilde 800', 'Central 1791', 'Ovidio Lagos 6700', 'Francia', 'Leopoldo Kanner 8000', 'Wilde 900', 'España 2086', 'Godoy Cruz 4200', 'Washington', 'Molina 2499', 'Ovidio Lagos 3900', 'Piedras 1300', 'Avenida 25 De Mayo', 'Humberto I', 'Tucuman 7900', 'San Martin 3900', 'Las Palmas', 'Lima 3000', 'Circunvalacion Altura Puente Centeno', 'Circunvalacion Altura Puente Centeno', 'Circunvalacion', 'San Martin 6300', 'Salvat', 'Bufano 2600', 'Ovidio Lagos 600', 'Avellaneda 1000', 'Circunvalacion Bis 1800', 'Pellegrini 3700', 'Circunvalacion Bis 1800', 'Eva Peron 9000', '3 De Febrero 4600', 'San Nicolas 1300', 'Mendoza 7500', 'Palestina 2500', 'Dorrego 1500', 'Paraguay 700', 'Corrientes 900', 'Sarmiento 1200', 'Montevideo 1800', 'Mendoza 2000', 'E Zeballos 2200', 'Punta del Indio', 'Pedro Lino Funes 2250', 'Nicasio Oroñoño 6000', 'Balcarce 5900', 'San Lorenzo', 'Mitre 1000', 'San Luis 1200', 'Bulevar Juan Francisco Seguí 2800', 'Donado 1290', 'Gutenberg 500', 'Tunel Celedonio Escalada', 'Biedma 1154', 'Ayala Gauna 7800', 'Schweitzer 7700', 'Genova 8000', 'Paraguay', 'Eva Peron 9000', 'Ayacucho 2300', 'Entre Ríos', 'Bulevar Juan Francisco Seguí 2100', 'Luis Carballo 300', 'Ayacucho 600', 'Bulevar Juan Francisco Seguí 1800', 'Gaboto 3100', 'Entre Rios 2500', 'Albert Sabin 1300', 'Guillermo Tell 300', 'Pellegrini 1700', 'Ocampo 1300', 'Nuestra Señora del Rosario', 'Superi 1100', 'Provincias Unidas 665', '27 De Febrero 2100', 'Entre Rios 1742', 'Mendoza 8300', 'Mendoza 7500', 'Avenida Intendente Morcillo', 'Tenienteagneta Bis 200', '27 de Febrero', 'Schweitzer 7900', 'Forest 7500', 'Circunvalacion 880', 'Avenida Battle y Ordoñez 700', 'Ovidio Lagos 4500', 'Bulevar Juan Francisco Seguí 3400', 'Presidenteroca 1100', 'Paraguay 1400', 'L N Alem 1400', 'Corrientes 1600', 'Mitre 1200', 'Tucumán', 'Montevideo 3800', 'Pellegrini 3300', 'Avellaneda', 'Anchorena 2276', 'Rioja 3800', 'Ovidio Lagos 1100', 'Pasaje Zavalla 3121', 'Vera Mujica 875', 'Pellegrini 3400', 'Buenos Aires 1300', 'Dorrego 2900', 'Mariano Moreno 4200', 'D Infante', 'Nicasio Oroñoño 2800', 'La Paz 1000', 'Iriondo 300', 'Circunvalacion 7500', 'Santa Fe', 'Circunvalacion 7500', 'Circunvalacion', 'Circunvalacion 2500', 'Eudnicasio Oroño Carrasco 3400', 'Cochabamba 1529', 'Rueda 1300', 'J B Justo', 'J B Justo', 'Avenida Battle y Ordoñez 3600', 'Pellegrini 600', '9 De Julio 300', 'Pueyrredon 700', 'Jose Ingenieros 8200', 'Pellegrini 4400', 'Francia 700', 'San Luis 2700', 'Entre Rios 1200', 'Nicasio Oroñoño 1000', 'Presidenteroca 700', 'Mendoza 2000', 'Montevideo 4200', 'Pascual Rosas 800', 'San Juan 4800', 'Presidenteperon 8100', 'Genova', 'Mendoza', 'Pellegrini 4700', 'Avenida Battle y Ordoñez', 'Pellegrini 1000', 'Corrientes 5900', 'Junin 1800', 'Montevideo 1200', 'Rioja 700', 'Valparaiso 900', 'Camino de los Granaderos', 'Eva Peron 5800', 'Nicasio Oroñoño 6100', 'J E Bianco 5900', 'Mendoza 4500', 'Generalmosconi 3350', 'Eva Peron', 'Arijon 1600', 'Pasaje Santa Matilde 3637', 'Albert Sabin 246 B', 'Gaboto 1300', 'Ovidio Lagos 7200', 'Ovidio Lagos 7300', 'Rondeau 900', 'Rondeau 100', 'Avenida Battle y Ordoñez 3500', 'San Juan 2800', 'Juan José Paso 2000', 'Juan José Paso 2000', 'Ovidio Lagos 7100', 'Machain 1300', 'Jorge Newbery', '27 De Febrero 2600', 'Santiago 40', 'Rondeau 4300', 'Echeverria Bis', 'San Martin 530', 'Italia 1900', 'L N Alem 3300', 'Del Valle 2900', 'Chacabuco 3300', 'Santa Fe 3100', 'Necochea 1800', 'Pasaje Einstein 2200', 'Ovidio Lagos 6000', 'Venezuela Bis 1300', 'Circunvalacion 1700', 'Cafferata 400', 'Ovidio Lagos 1100', 'Montes Carballo', 'Pueyrredon 900', 'Mitre 1700', 'Avellaneda 1000', 'Pellegrini 3932', 'Santiago 1300', 'Pellegrini 3200', 'Sucre 800', 'L N Alem 3100', 'Rondeau 1900', 'Mendoza', 'Eva Peron 8700', 'San Martin 6300', 'Mendoza 7500', 'Mendoza 7500', 'Circunvalacion 1200', 'Presidenteroca 1200', 'Mendoza 7400', 'Sarmiento 1100', 'J C Paz', 'Avenida Guillermo Wheelwright 1300', 'Alberdi Bis 338', 'Cochabamba 1800', 'Circunvalacion 17', 'Avenida Battle y Ordoñez 3400', 'Vélez Sarsfield', 'Alberdi Bis', 'Francia 5400', 'Ntra Sra Del Rosario 2300', 'Francia 3600', 'Santiago 5800', 'Juan José Paso 7400', 'Pellegrini 6770', 'Presidenteperon 8000', 'Rondeau 4300', 'Avenida Battle y Ordoñez 1400', 'Ovidio Lagos 5800', 'Ovidio Lagos 5700', 'Circunvalacion', 'Colombia Bis 398', 'J M De Rosas 1500', 'Sarmiento 600', 'Avenida Guillermo Wheelwright 1300', 'Circunvalacion', 'Presidenteroca 1000', 'Urquiza 9000', 'Entre Rios 1400', 'J Colombres 7900', 'Genova', 'Ayacucho', 'Biedma 500', 'San Martin 4702', 'Luis Carballo 200', 'Junin 501', 'Luis Carballo 200', 'Avenida Battle y Ordoñez', 'Garzon 2000b', 'San Martin 5300', 'Pueyrredon 3400', 'Salta 3300', 'J B Justo', 'R De Escalada 100', 'Luis Carballo 300', 'San Martin 4800', 'Bertole 8000', 'Eva Peron 7200', 'Irurtia 6900', 'Del Huerto 1000', 'Pellegrini 1000', 'Corrientes 3800', 'Dorrego 1300', '3 De Febrero 2300', 'Italia 700', 'Avellaneda 3700', 'San Juan 1000', 'San Martin 5000', 'Francia 3500', 'Pellegrini 1300', 'Riobamba 1100', 'San Martin 7000', 'Luis Carballo 400', 'Pellegrini 4300', 'Mendoza 3500', 'Avenida Battle y Ordoñez 1200', 'San Martin 3700', 'Juan José Paso 7622', 'Brasil 7500', 'Ntra Sra Del Rosario 400', 'Ovidio Lagos 5800', 'Madre Cabrini 2454', 'Lamadrid 1700', 'Nicasio Oroñoño 6100', 'Catamarca 1600', 'San Juan 1500', 'De Angelis Bis', 'Colectora 25 De Mayo 2500', 'Dr D Peña 680', 'Palliere 2900', 'Velez Sarsfield 600', 'Camilo Aldao 419 B', 'Donado 290', 'Corrientes 700', 'Cordoba 3800', 'Pellegrini', 'Provincias Unidas 300b', 'Constitución', 'Provincias Unidas 300', 'Santa Fe 1000', 'Nicasio Oroñoño', 'Circunvalacion 1400', 'Callao 938', 'Ricchieri', 'Avellaneda 1100', 'Corrientes 600', 'Avenida Guillermo Wheelwright 2000', 'Nicasio Oroñoño 4400', 'Callao 4163', 'Cerrito 1062', 'Ayacucho 3100', 'Mitre 4400', 'Rondeau 800', 'Mitre 2100', 'Puente Rosario - Victoria', 'J B Cordiviola 919', 'Italia 3900', 'Pasco 114', 'E Zeballos 2300', 'Montevideo', 'Avenida Battle y Ordoñez 370', 'Pellegrini 4400', 'Alberdi Bis 200', 'Mitre 1000', 'Luis Carballo', 'Circunvalacion', 'San Juan 4850', 'Pellegrini 1000', 'Urquiza 2800', '9 De Julio 2300', 'Juan José Paso 7400', 'San Juan 1200', 'Avellaneda', 'Jujuy 3000', 'Mariano Moreno 1000', 'Freyre 393', 'Necochea 2300', 'Nicolas Laguna 2900', 'Juan José Paso 8200', 'Superi 1600', 'Cerrito 6500', 'Presidenteperon 8200', 'Brassey 8250', 'Dean Funes 7600', 'Pellegrini 5100', 'Brasil 7400', 'Pasaje Sicilia 900', 'Peru 742', 'Colectora Puente Rosario Victoria', 'Grandoli 3700', 'Olavarria Bis 700', 'Juan José Paso 7400', 'Bordabehere 4000', 'Rondeau 200', 'Luis Carballo 500', 'J B Justo 7400', 'Rondeau 2769', 'Juan José Paso 2500', 'Del Valle', 'Belgrano 2000', 'España 2300', 'Presidenteperon 7400', 'Santiago 3800', 'Cordoba 6500', 'Pellegrini 6300', 'Garibaldi 4100', 'Pellegrini 100', 'San Martin 5500', 'Nicasio Oroñoño 4400', 'Pellegrini 400', 'Cordoba 4000', '3 De Febrero 2300', 'San Lorenzo 1300', 'Pasaje Lord Kelvin 1611', 'Cafferata 1241', 'Santa Fe 1400', 'España 1000', '3 De Febrero 1400', 'Juan José Paso 6000', 'J B Justo 2200', 'Sorrento', 'Sadi Carnot 6500', 'Arijon 2200', 'Francia 4700', 'Sanchez De Bustamante 2400', 'Santa Fe 7600', 'Chubut 7500', 'Calderon 8900', 'San Telmo 1800', 'Casiano Casas 1900', 'Cullen y Ugarte', 'San Martin 3900', 'Bulevar Juan Francisco Seguí', 'Balcarce 3300', 'Cochabamba 1000', 'Eva Peron 6900', 'Gustavo Cochet 900', 'Pasaje Boedo 2100', 'Mendoza 7800', 'Wilde 700', 'Rivarola 8000', 'Pellegrini', 'J Granel 2800', '24 De Setiembre 3600', 'Presidenteperon 7100', 'Bulevar Juan Francisco Seguí 3800', 'Presidenteperon 7700', 'Presidenteperon 6900', 'Flamarion 5800', 'Lavalle 4000', 'San Martin 6300', 'Corrientes 1500', 'San Martin 7200', 'Doctor Francisco Riva 3100', 'Nicasio Oroñoño 1359', 'Rivarola 7200', 'Pellegrini 400', 'Alsina 3400', 'Rivarola 7200', 'Iriondo 3900', 'Presidenteperon 8100', 'Pasaje Medici 5800', 'Dean Funes 4100', 'Avellaneda 4000', 'Avellaneda 4100', 'Ecuador B 1162', 'San Luis 2015', 'Mendoza 1431', 'Sarmiento 800', 'Mendoza 6315', 'Alvear 1100', 'Pellegrini 1455', 'Sarmiento 460', 'Juan José Paso 7800', 'Tucuman 2500', 'Rondeau 2700', 'San Lorenzo', 'Avellaneda', 'Uriburu 1400', 'Nicasio Oroñoño 4100', 'Alberdi Bis 500', 'Luis Carballo', 'Primero De Mayo 1800', 'Calderon 4000', 'Pellegrini 4400', 'Avenida Provincias Unidas', 'Albert Sabin 200', 'Avenida Hipólito Irigoyen 1600', 'Jorge Newbery', 'Salta 1600', 'Chacabuco 3900', 'Nicasio Oroñoño 2800', 'Riobamba 1800', 'Ovidio Lagos 2300', 'Arijon 2800', 'Velez Sarsfield 1000', 'Rueda 2500', 'San Juan 3700', 'Pasco 1300', 'San Lorenzo 1800', 'Cordoba 2200', 'San Luis 1165', 'Ayacucho 3800', 'Balcarce 600', 'Mitre 700', 'Balcarce 1400', 'Maipu 800', 'Buenos Aires 1700', 'San Martin 4800', 'Santa Fe 8100', 'Nicasio Oroñoño 4500', 'Circunvalacion', 'Mitre', 'Provincias Unidas B 600', 'Presidenteperon', 'Villa Del Parque 4000', 'Rondeau 4156', 'Baigorria 1500', 'Juan José Paso 5520', 'J Granel 2800', 'Monyfelds', 'Pellegrini 2700', 'J Chapo Bis', 'Cochabamba 800', 'Nicasio Oroñoño', 'Rivarola', 'Rivarola 6900', 'Luis Carballo', 'Genova 3745', 'Tenienteagneta 3100', 'Pellegrini 300', 'Corrientes 2800', 'Cordoba 5400', 'Matienzo 1200', 'San Juan 1500', 'Pellegrini 1300', 'Cordoba 2750', 'E Zeballos 1000', 'Pellegrini 1300', '3 De Febrero 2970', 'Del Valle 2700', 'Genova 3030', 'Rioja 2800', 'Salvat 3300', 'Circunvalacion Bis 1800', 'Salvador Allende 200', 'Azcuenaga 8000', 'Bolivia 322 B', 'Berna', 'White 7600', 'White 7500', 'P Araoz', 'Mendoza 4100', 'Nicasio Oroñoño 5800', 'Cabildo 600', 'Avenida Ovidio Lagos', 'Maipu 1700', 'Pasaje Chiola', 'Ovidio Lagos 900', 'Provincias Unidas Bis 800', 'Cordoba 3700', 'Pellegrini 900', '3 De Febrero 700', 'Provincias Unidas Bis 300', 'Sarratea Bis 730', 'España 900', 'Nicasio Oroñoño 900', 'Pellegrini 1500', 'Pellegrini 1500', 'Casiano Casas 900', 'Italia 2500', 'Italia 2200', 'Ovidio Lagos 6298', 'Cerrito 1600', 'Ovidio Lagos 6800', 'Centeno Bis 200', 'Pasaje 2012 5800', 'Pellegrini', 'Saavedra 271', 'Ayacucho', 'Pasaje Ipe 6400', 'Buenos Aires 3400', 'San Martin 1900', 'Cochabamba 50bis', 'J M De Rosas', 'Rodriguez 378', 'Tunel Celedonio Escalada', 'Necochea 1200', 'Sorrento', 'Avellaneda 600', 'Alberdi', 'Alvear 1300', 'Cullen 1072', 'Cordoba 1700', 'Corrientes 900', 'Rondeau', 'Provincias Unidas 1300b', 'L N Alem 1000', 'Lavalle 950', 'San Juan 2995', 'San Luis 1700', 'Italia 5200', 'Arijon 1200', 'Garay 4200', 'Avellaneda 900', 'Bulevar Juan Francisco Seguí', 'Francia 100', 'Pellegrini 2300', 'Tenienteagneta 1600', 'Laprida 4800', 'Rueda 1000', 'Ntra Sra Del Rosario 472', 'Sarmiento 4600', 'Brandsen', 'Sarratea Bis 1100', 'Cordoba 8600', 'Eva Peron 8000', 'Derqui 7500', 'Paraguay 4400', 'Sánchez de Bustamante', 'Ayacucho 16:00', 'Ntra Sra Del Rosario 300', 'Nicasio Oroñoño 2500', 'Ayacucho 5500', 'Pellegrini 2400', 'Italia 1700', 'Italia 2600', 'Cochabamba 2500', 'Belgrano 500', 'Nicasio Oroñoño 200', 'Casiano Casas 1900', 'Sorrento', 'Pasaje J Castelli', 'Arijon 1900', 'Cerrito 900', 'Salvat 3000', 'L N Alem 2000', 'Paraguay', 'Arijon 2000', 'Warnes 1600', 'San Martin 6200', 'Pasaje Reclus', 'Avenida Ovidio Lagos', 'Ovidio Lagos 6400', 'San Martin 6800', 'Bulevar Juan Francisco Seguí', 'Bulevar Juan Francisco Seguí 1500', 'Nuestra Señora del Rosario', 'Necochea 4300', 'Necochea 3500', 'Darragueira 800', 'Alberdi Bis 260', 'Nd', 'Pellegrini 1600', 'Muniagurría', 'Olavarria Bis 850', 'Juan José Paso', 'Sarmiento', 'Circunvalacion', 'Nicasio Oroñoño 1800', 'Primero De Mayo 1800', 'Uruguay 4200', 'Alsina 3400', 'J B Justo 2800', 'Vera Mujica 3100', 'Ovidio Lagos 6950', 'Ovidio Lagos 6000', 'Ovidio Lagos 7000', 'Avenida Ovidio Lagos', 'Lugones 6900', 'Italia 6000', 'Arijon 2700', 'San Martin 7500', 'Santiago 1100', 'Ovidio Lagos 5100', 'Pedro Lino Funes', 'San Lorenzo 3900', 'Tenienteagneta', 'Rioja', 'Genova 1900', 'Genova 2600', 'España 1800', 'Junin 510', 'Cochabamba 1500', 'Luis Carballo 1236', 'Albert Sabin', 'Pasaje Central Cordoba', 'Cordoba 3800', '9 De Julio 600', 'Uriburu 1700', 'Entre Rios 3800', 'Pasaje Urdinarrain 8417', 'Corrientes 900', 'Pellegrini 1300', 'Necochea 1400', 'Sarmiento 1500', 'Mendoza 1700', 'Pellegrini 1100', 'Nicasio Oroñoño 1300', 'Mendoza 1500', 'Ntra Sra Del Rosario 400', 'La Republica 8900', 'Solis', 'Presidenteroca 300', 'Illia 1000', 'Sarmiento 4151', 'L N Alem 1600', 'Santa Fe 1800', 'Sarmiento 1300', 'Avenida Provincias Unidas', 'Juan José Paso 7700', 'Sarmiento 3426', 'Rondeau 4400', 'Saavedra 300', 'Biedma 400', 'Pasaje Raffo 5200', 'Ayacucho', 'Ayacucho 4470', '9 De Julio 1100', 'Nicasio Oroñoño 900', 'San Juan 1740', 'España 1300', 'Riobamba 1', 'Benegas', 'Buenos Aires 900', 'Pellegrini 2600', 'Ituzaingó', 'Mitre', 'Zuviría', 'White', 'J Colombres', 'Genova 2000', 'Ciudadela', 'Albert Sabin', 'Casilda 1600', 'Pasaje 1435 1400', 'Santiago 300', 'Lassaga', 'Pellegrini 1800', 'Baigorria 2100', 'Belgrano 2100', 'Cerrito 738', '27 de Febrero', 'Virasnicasio Oroño 2100', 'Ovidio Lagos 6400', 'Ovidio Lagos 7800', 'Avenida Ovidio Lagos', 'Mendoza 6900', 'Avellaneda 6100', 'Ivanowski 191', 'Mitre 5665', 'San Martin 5500', 'Mendoza 2700', 'Lima 1200', 'Pellegrini 4600', 'Presidenteroca 1474', 'Rivarola 8000', 'San Luis 1100', 'Alvear 1600', 'Italia 700', 'San Luis 1900', 'Rondeau 3354', 'Montes Carballo 200', 'Juan José Paso 6500', 'Iguazu', 'Cafferata 600', 'Camino Nuevo A Soldini', 'Ovidio Lagos 7300', 'Pellegrini', 'Pedro Lino Funes 2200', 'Beruti 2060', 'Belgrano 2400', 'Entre Rios 2800', 'Balcarce 2700', 'Sarmiento 2800', 'Tarragona', 'Chubut', 'E Zeballos 1710', 'De La Tradicion 1400', 'Derqui 7542', 'Rivadavia 2800', 'Callao 500', 'Crespo 500', 'Circunvalacion', 'Bermudez 6500', 'Italia 1200', 'Pellegrini 3500', 'Mendoza 3880', 'Pasaje Rossini', 'Bulevar Juan Francisco Seguí 5000', 'Luis Carballo 300', 'Bolivia 2450', 'Cerro Catedral 6000', 'Nicasio Oroñoño 3300', 'San Martin 4800', 'Nicasio Oroñoño 3300', 'Colon 2800', 'Paraguay 2000', 'Bulevar Juan Francisco Seguí 1700', 'Pellegrini 1700', 'Chacabuco 3700', 'Centeno 600', 'Iguazu', 'Camilo Aldao', 'Illia 1700', 'Italia 1000', 'Provincias Unidas 1050', 'Avenida Battle y Ordoñez 3700', 'Crespo 200', 'Ovidio Lagos 4400', 'Casilda 1100', 'Avellaneda 100', 'Mont Cenis', 'Avellaneda 700', 'Valparaíso', 'Ovidio Lagos 6300', 'Zuviria 200', 'Presidenteroca 900', 'Dorrego 700', 'Montevideo 1700', 'Italia 1400', 'Pellegrini 1000', 'Montevideo 2000', 'Ayacucho 3400', 'Nicasio Oroñoño 4200', 'San Martin 3200', 'Ntra Sra Del Rosario 400', 'Bermudez 529', '27 De Febrero 880', 'J M De Rosas 7800', 'San Luis 900', 'Gorriti 828', 'Alberdi', 'Mendoza 7600', 'Pellegrini 5917', 'Dr Maradona 5700', 'Frondizi A 1100', 'Cordoba 4600', 'Nicasio Oroñoño', 'San Martin', '9 De Julio 900', 'Pellegrini 500', 'San Martin 6300', 'Rui Barbosa 800', 'Mitre 2400', 'Nicasio Oroñoño 2400', 'Callao', 'Ovidio Lagos 6700', 'Ntra Sra Del Rosario 3450', 'Alfredo Rouillón 4000', 'Marco Polo 500', 'Central 9300', 'Casiano Casas 2000', 'A Maza 4000', 'Alberdi 100', 'Tenienteagneta', 'Nicasio Oroñoño 5200', 'Avenida Battle y Ordoñez', 'Uriburu 1000', 'Eva Peron', 'Eva Peron 8300', 'J Colombres 800', 'Olive 1400', 'Santa Fe', 'Belgrano 2000', 'Laprida 1700', 'Mendoza 7500', '27 De Febrero 800', 'Mendoza 4800', 'Velez Sarsfield 700', 'Benzuley 168', 'Castellanos 400', 'Cafferata 200', 'Mitre 1600', 'Mariano Moreno 1009', 'Santa Fe 2315', 'Alfredo Rouillón 2800', 'Pellegrini 500', 'San Luis 1500', 'San Martin', 'Italia 1400', 'Dorrego 1500', 'Virasnicasio Oroño 300', 'Grandoli 3800', 'Ntra Sra Del Rosario Bis 200', 'Corrientes 1700', 'Jorge Newbery 8000', 'J Colombres Bis 1295', 'Mitre 2600', 'Nicasio Oroñoño 2700', 'Pellegrini 1500', 'Santa Fe 4400', 'Galvez 1000', 'Ovidio Lagos 6700', 'San Martin 6500', 'Alsina 1100', 'Constitucion 1600', 'San Juan 3400', 'San Martin 1200', 'Pellegrini 900', 'España 1600', 'Pascual Rosas 1200', 'Bulevar Juan Francisco Seguí 5350', 'Matienzo 2400', 'Circunvalacion', 'Bulevar Juan Francisco Seguí 5400', 'San Martin', 'Santa Fe', 'Las Palmas', 'De Las Palmeras 3800', 'Presidenteperon', 'San Luis 2700', 'Ovidio Lagos 1200', 'Mendoza 3300', 'Pueyrredon 1000', 'Circunvalacion 1900', 'Salta 3100', 'Rondeau 100', 'Derqui 7800', 'Navarro 6100', 'Circunvalacion 1000', 'Amuchastegui 7700', 'Rivarola', 'Uriburu 7600', 'Pasaje 1736', 'Rivarola', 'Rueda', 'Rivarola', '9 De Julio 1600', 'Corrientes', 'Mariano Moreno 1600', 'E Zeballos 1200', 'San Juan 1150', 'Rioja 700', 'Pellegrini 900', 'Mendoza 1700', 'Santa Fe 2600', 'Rodriguez 500', 'Junin 1600', 'Pasaje 1754 2000', 'Montevideo 4800', 'Cordoba 2600', 'Jorge Cura 2300', 'Rio De Janeiro 770', 'San Luis 2300', '27 De Febrero 1900', 'J M Gutierrez', 'Belgrano 2000', 'Santa Fe 1600', 'Mendoza 1500', 'L N Alem 2021', 'Provincias Unidas 2800', 'Presidenteperon 7500', 'Pellegrini 2700', 'Rondeau', 'Rondeau 4300', 'Luis Carballo', 'Avellaneda', 'Gorriti', 'Pasaje Arenales 300', 'Junin 300', 'Avenida Battle y Ordoñez', 'Bulevar Juan Francisco Seguí 500', 'San Martin 2900', 'Juan José Paso 7400', 'Mariano Moreno 5400', 'Saavedra', 'Cafferata 300', 'Arijon 2737', 'Avellaneda 5000', 'Salta 3200', 'Circunvalacion Bis 1600', 'Arengreen 6000', 'Ovidio Lagos 8100', 'Francia 2600', 'Necochea 2600', 'Pellegrini 2600', 'Mariano Moreno 1700', 'Cullen', 'Sorrento 6700', 'Cochabamba 1600', 'L Braile', 'Garzon Bis 1400', '2106 Avenida Battle y Ordoñez', 'J B Justo 6900', 'Rondeau 100', 'Corrientes 800', 'Arijon 1600', 'San Martin 6600', 'Dorrego 1900', 'Dorrego 1900', 'Corrientes 1000', 'Pueyrredon 1900', 'Avellaneda B 4900', 'Cafferata 1000', 'Montes Carballo 500', 'Nd', 'Nicasio Oroñoño 5600', 'Nicasio Oroñoño 6000', 'Ovidio Lagos 6600', 'Avellaneda 2700', 'Avenida Provincias Unidas', 'Santa Fe 7900', 'Avenida 25 De Mayo', 'Wilde 805', 'Pasaje 1404 Bis 1500', 'J B Justo', 'Presidenteperon 7800', 'Presidenteperon 7600', 'De Las Palmeras 3400', 'Alsina 2850', 'Juan José Paso 7600', 'Paraguay 6000', 'Ovidio Lagos 6700', 'Francia 3600', 'Alsina 800', 'Mendoza 4200', 'Callao 700', 'Circunvalacion 2200', 'Santa Fe 4380', 'Nicasio Oroñoño 1300', 'José Ingenieros', '24 De Setiembre 1100', 'Uruguay 2600', 'Ocho de Noviembre', 'Rivarola 7000', '27 De Febrero 7400', 'Alfredo Rouillón 3880', '27 de Febrero', 'Pellegrini', 'Cafferata 2300', 'Genova 1900', 'Circunvalacion 1900', 'Ovidio Lagos 170', 'Pasaje Pedro Depaoli 3500', 'Casiano Casas 2200', '27 de Febrero', 'Ovidio Lagos 6600', 'La Paz 600', 'Olegario V Andrade 1800', 'Ayacucho 1700', 'Pellegrini 1600', 'Avellaneda B', 'Sorrento 1500', 'Argelia', 'Nicasio Oroñoño 4000', 'Suipacha 950', 'Sarmiento 1500', 'San Luis 1700', 'Cordoba 700', 'San Luis 1900', 'San Martin', 'Circunvalacion 3000', 'Presidenteperon 8200', 'Presidenteperon 7400', 'Alberdi Bis', 'Rondeau 4100', 'Ocampo 6400', 'Presidenteperon 8100', 'Laguna', 'Fraga 1100', 'R Lagos 3100', 'Rivarola 7300', 'Presidenteperon', 'R De Escalada', 'Avenida Battle y Ordoñez 3600', 'Mariano Moreno 6300', 'Arijon 2500', 'San Martin', 'Ntra Sra Del Rosario 1800', 'Bulevar Juan Francisco Seguí 3200', 'Sánchez de Bustamante', 'Riobamba', 'Ovidio Lagos 2700', 'Belgrano 1700', 'Mendoza 2100', 'Mitre 965', 'Mendoza 1600', 'Nicasio Oroñoño 1000', 'J B Justo', 'Rondeau 1450', 'Puccio', 'Alberdi', 'Nicasio Oroñoño 1200', 'Santa Fe 1000', 'Nicasio Oroñoño 700', 'San Martin 1200', 'J Colombres 2800', 'Amenabar 3900', 'Ovidio Lagos 7400', 'G Carrasco 2700', 'Casilda', 'Pellegrini', 'Ovidio Lagos 5200', 'Alberdi Bis', 'Rivarola', '27 de Febrero', 'Calle 1711', 'Dean Funes', 'Rivarola 7000', 'Avenida Ovidio Lagos', 'Presidenteperon 4400', 'Necochea 2100', 'Circunvalacion 977', 'Buenos Aires 4400', 'Presidenteperon', 'J M De Rosas 2700', 'Circunvalacion', 'Provincias Unidas 900', 'Saavedra', 'Gaboto 6300', 'Garibaldi 6100', 'Alfredo Rouillón 4000', 'Bulevar Juan Francisco Seguí 5300', 'Ovidio Lagos 7400', 'R De Pineda', '24 De Setiembre 1400', 'Buenos Aires 1700', 'Pellegrini 2900', 'Uriburu', 'Constitucion 800', 'San Juan 4579', 'Mendoza 2900', 'Pellegrini 3400', 'Rioja 1400', 'Corrientes 1510', 'Belgrano 336', 'Jorge Newbery 7600', 'Eva Peron 8032', 'Circunvalacion', 'Don Bosco 137', 'Alberdi Bis', 'Echeverria Bis', 'Luis Vila 1500', 'Rivadavia 2800', 'Superi 2000', 'Rondeau 2800', 'G Carrasco 3700', 'Rondeau 4000', 'Bulevar Juan Francisco Seguí', 'Lopez Buchardo 2318', 'Superi 1700', 'Alvear', 'Circunvalacion', 'Beruti 2900', 'Dr Maradona 5700', 'Avenida 25 De Mayo 2700', 'Ovidio Lagos 7400', 'Circunvalacion', 'Magallanes 3960', 'Alfredo Rouillón', 'Alfredo Rouillón', 'Presidenteperon 4200', 'Aaron Castellanos', 'Vuelta De Obligado 4700', 'Maipu 900', 'Bordabehere 4000', 'Bulevar Juan Francisco Seguí 1600', 'Belgrano 2000', 'Uriburu', 'Albert Sabin', 'Laprida 3600', 'Sanchez De Loria 1500', 'Avenida Battle y Ordoñez 680', 'Avenida Battle y Ordoñez 1620', 'Mendoza 4170', 'Pascual Rosas 1600', 'Urquiza', 'Genova 8500', 'Eudnicasio Oroño Carrasco 4000', 'Pasaje Riachuelo 1479', 'Provincias Unidas 570', 'San Martin 7800', 'Santa Fe 6500', 'Ovidio Lagos 6000', 'Nicasio Oroñoño 5400', 'Nicasio Oroñoño 6000', 'Dorrego 1200', 'Corrientes 1100', 'Mendoza 1300', 'San Juan 2100', 'Presidenteroca 1600', 'Cordoba 1200', 'San Juan', 'Dorrego 800', 'Pellegrini 1500', 'E Lopez 2300', 'Ovidio Lagos 7900', 'Provincias Unidas 1100', 'Bermudez 6500', 'Bulevar Juan Francisco Seguí 5300', 'San Martin 6200', 'Camilo Aldao', '27 De Febrero 2650', 'J M De Rosas 2200', 'Sánchez de Loria', 'Eva Peron', 'Tucuman 2800', 'Francia 1800', 'Riobamba 6253', 'Bulevar Juan Francisco Seguí 800', 'Ayacucho 3700', 'Mitre 800', 'Corrientes', 'San Luis', 'Santa Fe 2000', 'San Luis 1595', '27 De Febrero 2400', 'Nicasio Oroñoño 1800', '27 De Febrero 1000', 'San Martin 2900', 'Paraguay 1900', 'Pellegrini 1700', 'Corrientes 2400', 'Eva Peron 8300', 'Urquiza 3100', 'Italia 4100', 'Francia 5200', 'Pasco 700', 'Ing Thedy Bis', 'Pellegrini 2100', 'J B Justo 7200', 'Carlos Colombres 2100', 'Warnes 1671', 'Paraguay 4700', 'Ricardo Gutierrez', 'Uriburu', 'Uriburu 100', 'Tucuman 3200', '3 De Febrero 3800', 'Presidenteroca 1600', 'Nicasio Oroñoño 1200', 'Cavia 1500', 'Presidenteroca', 'Mariano Moreno', 'Corrientes', 'Vélez Sarsfield', 'Luis Carballo 260', 'Uriburu', 'Sd', 'Mendoza 1800', '27 De Febrero 100b', 'Belgrano 2500', 'Pellegrini 200', 'Laprida 1800', 'Pellegrini 2100', 'Cerrito 1600', 'Nicasio Oroñoño 1800', '27 De Febrero 2000', 'Ayacucho 3150', 'Grandoli 3800', 'Laprida 1945', 'Ovidio Lagos 4500', 'Ovidio Lagos 6300', 'Ovidio Lagos 6300', 'San Martin 3250', 'Junin 1100', 'J M De Rosas 1200', 'San Luis 2500', 'Entre Rios 700', 'Pasaje Ricardone 1300', 'San Luis 1600', 'Francia 3200', 'Uriburu 2550', 'Wilde', 'Tunel Escolado', 'Matienzo', 'Presidenteperon 4200', 'Lima 2000', 'Presidenteperon 2800', 'Dorrego 2800', 'F Solano Lopez 2000', 'Dante Alighieri 2100', 'L N Alem 2050', 'Circunvalacion', 'Pellegrini 4200', 'Ovidio Lagos 4350', 'España 824', 'Entre Rios 1200', '3 De Febrero 2000', 'Mitre 1300', 'Morrison 7900', 'Mendoza 7500', 'R De Escalada', 'Pasaje Calzada', 'La República', 'Donado', 'San Jose De Calasanz 8100', 'Mendoza 7600', 'Mitre 1300', 'San Luis 900', 'Bordabehere 4960', 'Guemes 2608', 'Sarmiento 3500', 'Juan José Paso 7150', 'Fraga 1039', 'Tucuman 5100', 'Centeno', 'Velez Sarsfield 6800', 'Eva Peron', 'Ayala Gauna 7848', 'Mendoza 7400', 'Pasaje Publico 7500', 'Tucuman 1800', 'Cordoba 9150', 'Urquiza 1132', 'De Las Palmeras 4500', 'Tarragona 300', 'Gorriti 1749', 'Tucuman 2400', 'Francia 200', 'Avellaneda', 'Warnes 2300', 'San Martin 7300', 'Rivarola 8000', 'Callao 1370', 'Circunvalacion', 'Corrientes 800', 'Sarmiento 400', 'Belgrano 838', 'Benito Juarez 1600', 'Biedma Bis 100', 'Pasaje Lord Kelvin', 'Albert Sabin 145b', 'Stephenson 300', 'Casiano Casas 1100', 'Juan José Paso 5600', 'Colectora Juan Pablo Ii 1300', 'Matienzo 1500', 'Jorge Newbery 9100', 'Salvat 2700', 'Presidenteroca 1450', 'J M De Rosas 1600', 'Montevideo 4496', 'Pellegrini 1300', 'Rioja 1900', 'L N Alem 1400', 'Belgrano 860', '9 De Julio 1500', 'Cordoba 1600', 'Presidenteroca 652', 'Belgrano 2017', 'Albert Sabin 150', 'Pasaje Pirayu Bis 1250', 'Rivadavia 2600', 'Corrientes 5500', 'Avenida Battle y Ordoñez 900', 'Regimiento 11 2400', 'Pellegrini 1800', 'España 6700', 'Virasnicasio Oroño 1100', 'España 6700', 'Avellaneda 4900', 'Buenos Aires 3200', 'Pasaje Santa Maria 4100', 'Matienzo', 'Arijon 2400', 'Jose Ingenieros 1600', 'Genova', 'Humberto I 2000', 'Batten Cottages 4251', 'Levi 3500', 'Ayolas Bis 200', 'Estado De Israel 5976', 'Juan José Paso 2400', 'Pueyrredon 1080', 'Rondeau 3600', 'Corrientes 400', 'Lima 1410', 'Salta 2520', 'Catamarca 3100', 'Catamarca 3500', 'Pellegrini 7000', 'Jorge Newbery 1200', 'Raul Alfonsin 2800', 'Circunvalacion', 'Avenida Hipólito Irigoyen 1500', 'Camino De Los Ladrilleros 3800', 'Nahuel Huapi 3800', 'Tucumán', 'Mendoza 7200', 'Chubut 7600', 'Derqui 7400', 'Lamadrid 22:15', 'Arijon', 'San Martin 4800', 'Brandazza 2800', 'Sargento Cabral', 'Cerrito 900', 'Buenos Aires 1200', 'E Zeballos 800', 'Buenos Aires 3300', 'Almafuerte 1000', 'Alberdi 244', 'Pasaje Puccini 282', 'Pasaje Ricardone 1342', 'Pasaje Azopardo', 'Alberdi Bis 200', 'Maipu 1000', 'Ovidio Lagos 1400', 'Pasaje Patria 1900', 'Circunvalacion', 'Provincias Unidas 2240', 'San Luis 4900', 'Tarragona Bis 1200', 'Ovidio Lagos 5250', 'Martinez Estrada', 'Viamonte', 'José Garibaldi', 'Ciudadela 3400', 'Zuviría', 'Circunvalacion', 'San Juan 2100', 'Presidenteroca 1262', 'Nicasio Oroñoño', 'Tucuman 2100', 'Biedma 2400', 'San Martin 5300', 'Uriburu', 'Olegario V Andrade 1100', 'Esquivel 1047', 'Italia 1825', 'L N Alem 3159', 'San Martin 6400', 'J B Justo 6900', 'Ovidio Lagos 2800', 'Salta 1700', 'Mitre 1400', 'Salta 1500', '3 De Febrero 700', 'Luis Carballo 500', '27 De Febrero 2600', 'Presidenteroca A 2350', 'Garibaldi 5000', 'J M Gutierrez', 'San Juan 700', 'Pellegrini 600', 'Paraguay 1700', 'Presidenteroca 900', 'Mendoza 1800', 'Velez Sarsfield 700', 'San Martin 700', 'Avellaneda 4500', 'Ayacucho 6100', 'Provincias Unidas 1400', 'Tarragona', 'Rivadavia 2455', 'Paraguay', 'De Las Palmeras 3485', 'Junin 200', 'Jorge Newbery 8900', 'Sorrento', 'Campbell', 'Nicasio Oroñoño 4500', 'Circunvalacion', 'San Luis 500', '3 de Febrero', 'Avenida Provincias Unidas', 'Madre Cabrini', 'Iriondo', 'Pasaje Amazonas', 'Avenida Ovidio Lagos', '27 de Febrero', 'San Nicolás', 'San Nicolás', 'Biedma', 'Pedro Lino Funes', 'San Lorenzo', 'Mendoza', 'Servando Bayo', 'Avenida Provincias Unidas', 'Ayacucho', 'Garzón', 'Luis Carballo', 'Centeno', 'Circunvalacion', 'Avenida Provincias Unidas', 'Camilo Aldao', '3 de Febrero', 'Genova', 'Las Palmas', 'República del Líbano', 'Brasil', '27 de Febrero', 'Circunvalacion', 'Avellaneda', 'Constitución', 'Bulevar Juan Francisco Seguí', 'Avenida Provincias Unidas', 'Avenida Provincias Unidas', 'Tarragona', '27 de Febrero', 'San Lorenzo', 'Avellaneda', 'Esteban de Luca', 'Pedro Lino Funes', 'Lima', 'Balcarce']' has dtype incompatible with float64, please explicitly cast to a compatible dtype first.\n",
      "\n"
     ]
    }
   ],
   "source": [
    "forma_geocod_results = []\n",
    "calles_osm_results = []\n",
    "\n",
    "# itero sobre las filas del DataFrame original filtrando por 'numero_calles' == 1\n",
    "for index, row in siniestros_a_geocodificar[siniestros_a_geocodificar['numero_calles'] == 1].iterrows():\n",
    "    forma_geocod, calles_osm = geocodificar_dir_puntual(row['calle_lista'])\n",
    "    forma_geocod_results.append(forma_geocod)\n",
    "    calles_osm_results.append(calles_osm)\n",
    "\n",
    "calles_osm_results_flattened = [item[0] if isinstance(item, list) else item for item in calles_osm_results]\n",
    "\n",
    "# Asignar los resultados a nuevas columnas del DataFrame original solo para las filas filtradas\n",
    "siniestros_a_geocodificar.loc[siniestros_a_geocodificar['numero_calles'] == 1, 'forma_geocod'] = forma_geocod_results\n",
    "siniestros_a_geocodificar.loc[siniestros_a_geocodificar['numero_calles'] == 1, 'calles_osm'] = calles_osm_results_flattened"
   ]
  },
  {
   "cell_type": "markdown",
   "metadata": {},
   "source": [
    "## Geocodificar intersecciones con OSM"
   ]
  },
  {
   "cell_type": "markdown",
   "metadata": {},
   "source": [
    "La celda de código que se presenta a continuación tiene como objetivo geocodificar intersecciones de calles donde ocurrieron los siniestros. Para ello, se definen dos funciones: **'buscar_alternativas'** y **'geocodificar_intersecciones'**.\n",
    "\n",
    "Se comienza llamando a la función principal, **'geocodificar_intersecciones'**, la cual recibe una lista de calles (por ejemplo, ['27 de Febrero', 'Francia']), el nombre de un municipio (por ejemplo, 'Rosario'), y una lista de calles oficiales reconocidas por OpenStreetMap (OSM) en ese municipio.\n",
    "Es importante que el municipio ingresado coincida con uno de los elementos contenidos en la lista *'municipio'*, definida en la sección de limpieza de datos.\n",
    "\n",
    "Esta función busca encontrar la posición geográfica, si existe, de las calles en la lista proporcionada. Comienza buscando una coincidencia exacta de los nombres en la base de datos de OSM. Si no se encuentra una coincidencia exacta, puede suceder que el nombre esté incompleto (por ejemplo, 'Francia' figura como 'Avenida Francia') o que la calle no exista en la base de datos. En éste ultimo caso, la función devuelve un resultado indicando la situación, como *'calle ppal no encontrada'*, *'calle sec no encontrada'* o *'ambas calles no encontradas'*.\n",
    "\n",
    "Si la búsqueda inicial no produce resultados, la función llama a otra función interna, **'buscar_alternativas_y_geocodificar'**, que busca alternativas para las calles utilizando la función **buscar_alternativas**. Esta última función devuelve todas las opciones de calles encontradas en la base de datos de OSM que coinciden con la calle ingresada, sin tener en cuenta acentos ni distinción entre mayúsculas y minúsculas. Por ejemplo, para la calle 'Carrasco', devolverá las siguientes alternativas: 'Gabriel Carrasco', 'Avenida Eudoro Carrasco', 'Carrasco', 'Colectora Eudoro Carrasco', 'Omar Carrasco'. Además, en el caso de que se trate de una Colectora o Circunvalación, se agregan otras opciones válidas a la lista de calles alternativas.\n",
    "\n",
    "Una vez que se han encontrado todas las posibles calles, la función principal busca la intersección entre ellas. Puede devolver los siguientes resultados:\n",
    "\n",
    "- 'ppal calles no encontrada': No se encontró la calle principal ni ninguna coincidencia con la misma.\n",
    "- 'sec calles no encontrada': No se encontró la calle secundaria ni ninguna coincidencia con la misma.\n",
    "- 'ambas calles no encontradas': No se encontraron ambas calles ni ninguna coincidencia con las mismas.\n",
    "- 'chequear': La intersección devolvió una colección geométrica. \n",
    "- 'error': No se halló la intersección.\n"
   ]
  },
  {
   "cell_type": "code",
   "execution_count": null,
   "metadata": {},
   "outputs": [],
   "source": [
    "def buscar_alternativas(calle, calles_osm_verif):\n",
    "    '''Busca calles alternativas en la base de datos de OSM para la calle recibida'''\n",
    "    calle = unidecode(calle).lower() # convierto la calle sin acentos y a minúsculas\n",
    "    alternativas = [c for c in calles_osm_verif if unidecode(c.lower()).find(calle) != -1]\n",
    "    palabras_colectora = ['circunvalacion', 'circunvalación', '25 de mayo', 'colectora'] \n",
    "    alternativas_colectora = ['Juan Pablo II', 'Colectora Juan Pablo II', 'Colectora José María Rosa', 'José María Rosa']\n",
    "    \n",
    "    # si la calle contiene alguna de las palabras de colectora, entonces agrego calles adicionales\n",
    "    if any(palabra in calle for palabra in palabras_colectora):\n",
    "        alternativas.extend(alternativas_colectora)\n",
    "\n",
    "    return alternativas\n",
    "\n",
    "def geocodificar_intersecciones(calles, municipio, calles_osm_verif):\n",
    "    '''Geocodifica intersecciones según el municipio y la lista de calles pasadas por parámetro'''\n",
    "    calle_ppal = unidecode(calles[0]).lower()\n",
    "    calle_sec = unidecode(calles[1]).lower()\n",
    "\n",
    "    if not calle_ppal.strip() or not calle_sec.strip():\n",
    "        return 'error', 'error'\n",
    "\n",
    "    # columna de nombres de calles sin acentos y en minúsculas\n",
    "    calles_bd_sin_acento = datos_municipios[municipio]['edges']['name'].apply(lambda x: unidecode(x).lower())\n",
    "    \n",
    "    # filas que contienen las calles buscadas\n",
    "    mask_calle_ppal = calles_bd_sin_acento.str.contains(calle_ppal, case=False, regex=False)\n",
    "    mask_calle_sec = calles_bd_sin_acento.str.contains(calle_sec, case=False, regex=False)\n",
    "    \n",
    "    calle_ppal_geo = datos_municipios[municipio]['edges'][mask_calle_ppal]\n",
    "    calle_sec_geo = datos_municipios[municipio]['edges'][mask_calle_sec]\n",
    "    \n",
    "    # nombres exactos\n",
    "    nombre_exacto_ppal = datos_municipios[municipio]['edges'][mask_calle_ppal]['name'].unique().tolist()\n",
    "    nombre_exacto_sec = datos_municipios[municipio]['edges'][mask_calle_sec]['name'].unique().tolist()\n",
    "    \n",
    "    # si no reconoce el nombre de una o ambas calles\n",
    "    if not nombre_exacto_ppal or not nombre_exacto_sec:\n",
    "        flag = 'ambas'\n",
    "        if not nombre_exacto_ppal and nombre_exacto_sec:\n",
    "            flag = 'ppal'\n",
    "        elif nombre_exacto_ppal and not nombre_exacto_sec:\n",
    "            flag = 'sec'\n",
    "        return \"{} calles no encontradas\".format(flag), 'error'\n",
    "    \n",
    "    calles_osm = [nombre_exacto_ppal[0], nombre_exacto_sec[0]]\n",
    "    \n",
    "    calle_ppal_geo = calle_ppal_geo.unary_union\n",
    "    calle_sec_geo = calle_sec_geo.unary_union\n",
    "    \n",
    "    # función para buscar alternativas de ambas calles si la intersección no devuelve un punto\n",
    "    def buscar_alternativas_y_geocodificar(calle_ppal, calle_sec, calles_osm_verif):\n",
    "        alternativas_ppal = buscar_alternativas(calle_ppal, calles_osm_verif)\n",
    "        alternativas_sec = buscar_alternativas(calle_sec, calles_osm_verif)\n",
    "        calles_con_interseccion = []\n",
    "        \n",
    "        for alt_ppal in alternativas_ppal:\n",
    "            for alt_sec in alternativas_sec:\n",
    "                calle_geo_ppal = datos_municipios[municipio]['edges'][datos_municipios[municipio]['edges']['name'].str.contains(alt_ppal, case=False, regex=False)]\n",
    "                calle_geo_sec = datos_municipios[municipio]['edges'][datos_municipios[municipio]['edges']['name'].str.contains(alt_sec, case=False, regex=False)]\n",
    "                \n",
    "                if len(calle_geo_ppal) > 0 and len(calle_geo_sec) > 0:\n",
    "                    calle_geo_ppal = calle_geo_ppal.unary_union\n",
    "                    calle_geo_sec = calle_geo_sec.unary_union\n",
    "                    \n",
    "                    inter = calle_geo_ppal.intersection(calle_geo_sec)\n",
    "                    \n",
    "                    if isinstance(inter, Point):\n",
    "                        calles_con_interseccion.append((alt_ppal, alt_sec))\n",
    "                        return inter, calles_con_interseccion\n",
    "                    if isinstance(inter, MultiPoint):\n",
    "                        if inter.geoms[0].equals_exact(inter.geoms[1], tolerance=0.0001):\n",
    "                            calles_con_interseccion.append((alt_ppal, alt_sec))\n",
    "                            return inter.centroid, calles_con_interseccion\n",
    "                        elif inter.geoms[0].equals_exact(inter.geoms[1], tolerance=0.001):\n",
    "                            calles_con_interseccion.append((alt_ppal, alt_sec))\n",
    "                            return inter.centroid, calles_con_interseccion\n",
    "                        \n",
    "    try:\n",
    "        inter = calle_ppal_geo.intersection(calle_sec_geo)\n",
    "        \n",
    "        if isinstance(inter, MultiPoint):\n",
    "            if inter.geoms[0].equals_exact(inter.geoms[1], tolerance=0.0001):\n",
    "                return inter.centroid, calles_osm\n",
    "            elif inter.geoms[0].equals_exact(inter.geoms[1], tolerance=0.001):\n",
    "                return inter.centroid, calles_osm\n",
    "            else:\n",
    "                centroide, calles_lista = buscar_alternativas_y_geocodificar(calles[0], calles[1], calles_osm_verif)\n",
    "                if calles_lista is not None:\n",
    "                    return centroide, calles_lista\n",
    "                    #return \"chequear puntos distantes\", 'error'\n",
    "        \n",
    "        if isinstance(inter, GeometryCollection):\n",
    "            return \"chequear\", 'error'\n",
    "        \n",
    "        if isinstance(inter, LineString) or isinstance(inter, MultiLineString):\n",
    "            centroide, calles_lista = buscar_alternativas_y_geocodificar(calles[0], calles[1], calles_osm_verif)\n",
    "            if calles_lista is not None:\n",
    "                return centroide, calles_lista\n",
    "        return inter, calles_osm\n",
    "    except Exception as e:\n",
    "        return 'error', 'error'"
   ]
  },
  {
   "cell_type": "markdown",
   "metadata": {},
   "source": [
    "En el siguiente código, se llama de forma iterativa a la función previamente definida, **'geocodificar_intersecciones'**, y se almacenan sus resultados en las listas definidas al comienzo. Luego, se asignan esos valores a las columnas *'forma_geocod'* y *'calles_osm'* del dataframe. Esto se aplica únicamente a las filas donde el número de calles que intervienen en el siniestro es igual a 2."
   ]
  },
  {
   "cell_type": "code",
   "execution_count": null,
   "metadata": {},
   "outputs": [],
   "source": [
    "forma_geocod_results = []\n",
    "calles_osm_results = []\n",
    "\n",
    "for index, row in siniestros_a_geocodificar[siniestros_a_geocodificar['numero_calles'] == 2].iterrows():\n",
    "    forma_geocod, calles_osm = geocodificar_intersecciones(row['calle_lista'], 'Rosario', calles_osm_rosario)\n",
    "    forma_geocod_results.append(str(forma_geocod)) \n",
    "\n",
    "    # convierto cada lista de calles a un string con cada calle separada por comas, pero mantengo 'error'\n",
    "    calles_osm_str = '; '.join(map(str, calles_osm)) if not 'error' in calles_osm else 'error'\n",
    "    calles_osm_results.append(calles_osm_str)\n",
    "\n",
    "siniestros_a_geocodificar.loc[siniestros_a_geocodificar['numero_calles'] == 2, 'forma_geocod'] = forma_geocod_results\n",
    "siniestros_a_geocodificar.loc[siniestros_a_geocodificar['numero_calles'] == 2, 'calles_osm'] = calles_osm_results"
   ]
  },
  {
   "cell_type": "markdown",
   "metadata": {},
   "source": [
    "A continuación, se procede a filtrar todos los siniestros que ya se encontraban geocodificados, es decir, aquellos en los que la columna *'forma_geocod'* ya contenía información, y se concatenan estos siniestros filtrados con el dataframe resultante 'accidentes_ciudad'."
   ]
  },
  {
   "cell_type": "code",
   "execution_count": null,
   "metadata": {},
   "outputs": [],
   "source": [
    "registros_con_geocod = accidentes_ciudad[accidentes_ciudad['forma_geocod'].notnull()] # filtro filas donde 'forma_geocod' no es nulo\n",
    "siniestros_rosario_final = pd.concat([siniestros_a_geocodificar, registros_con_geocod])  # concateno ambos df's\n",
    "siniestros_rosario_final = siniestros_rosario_final.reset_index(drop=True)"
   ]
  },
  {
   "cell_type": "markdown",
   "metadata": {},
   "source": [
    "Para extraer las latitudes y longitudes de cada coordenada, se define la función **'extraer_coordenadas'**. Esta función se aplica a todas las filas que contienen información en la columna *'forma_geocod'*. Los resultados se asignan a dos nuevas columnas: *'lat'* para las latitudes y *'lon'* para las longitudes."
   ]
  },
  {
   "cell_type": "code",
   "execution_count": null,
   "metadata": {},
   "outputs": [],
   "source": [
    "def extraer_coordenadas(geo):\n",
    "    '''Extrae la latitud y longitud de las coordenadas pasadas por parámetro'''\n",
    "    if isinstance(geo, str):\n",
    "        if geo in ['error', 'no funciono', 'ppal calles no encontradas', 'sec calles no encontradas', 'ambas calles no encontradas', 'chequear', 'chequear puntos distantes']:\n",
    "            return None, None\n",
    "        try:\n",
    "            lat, lon = map(float, geo.split(','))\n",
    "            return lat, lon\n",
    "        except ValueError:\n",
    "            if 'POINT' in geo:\n",
    "                geo_cleaned = geo.replace('POINT', '').replace('(', '').replace(')', '')\n",
    "                coords = geo_cleaned.split()\n",
    "                return float(coords[1]), float(coords[0])  # revertir el orden de latitud y longitud\n",
    "    return None, None\n",
    "\n",
    "# filtro las filas donde 'lat' y 'lon' son nulos y la columna 'forma_geocod' ya tenga info\n",
    "mask = (~siniestros_rosario_final['forma_geocod'].isnull()) & (~siniestros_rosario_final['forma_geocod'].isin(['error', 'no funciono', 'chequear puntos distantes', 'chequear', 'ppal calles no encontradas', 'sec calles no encontradas', 'ambas calles no encontradas']))\n",
    "coordenadas = siniestros_rosario_final.loc[mask, 'forma_geocod'].apply(lambda x: extraer_coordenadas(x))\n",
    "siniestros_rosario_final.loc[mask, ['lat', 'lon']] = coordenadas.tolist()"
   ]
  },
  {
   "cell_type": "markdown",
   "metadata": {},
   "source": [
    "Finalmente, se exporta el dataframe finalizado a un csv con el mismo nombre."
   ]
  },
  {
   "cell_type": "code",
   "execution_count": null,
   "metadata": {},
   "outputs": [],
   "source": [
    "siniestros_rosario_final.to_csv(\"siniestros_geocod_rosario2.csv\")"
   ]
  }
 ],
 "metadata": {
  "kernelspec": {
   "display_name": "Python 3",
   "language": "python",
   "name": "python3"
  },
  "language_info": {
   "codemirror_mode": {
    "name": "ipython",
    "version": 3
   },
   "file_extension": ".py",
   "mimetype": "text/x-python",
   "name": "python",
   "nbconvert_exporter": "python",
   "pygments_lexer": "ipython3",
   "version": "3.10.11"
  }
 },
 "nbformat": 4,
 "nbformat_minor": 2
}
